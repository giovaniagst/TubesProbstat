{
 "cells": [
  {
   "cell_type": "code",
   "execution_count": 65,
   "metadata": {},
   "outputs": [
    {
     "name": "stdout",
     "output_type": "stream",
     "text": [
      "------ DAERAH ---------\n",
      "Rata-rata:\n",
      "4801.246\n",
      "Median:\n",
      "4735.0\n",
      "Modus:\n",
      "0    3992\n",
      "1    4881\n",
      "2    5642\n",
      "3    6083\n",
      "dtype: int64\n",
      "Standar deviasi:\n",
      "986.3954914816018\n",
      "Variansi:\n",
      "972976.0656152307\n",
      "Range:\n",
      "4931\n",
      "Nilai minimun:\n",
      "2522\n",
      "Nilai maksimum:\n",
      "7453\n",
      "Kuartil:\n",
      "0.00    2522.00\n",
      "0.25    4042.75\n",
      "0.50    4735.00\n",
      "0.75    5495.50\n",
      "1.00    7453.00\n",
      "Name: Daerah, dtype: float64\n",
      "IQR:\n",
      "1452.75\n",
      "Skewness:\n",
      "0.23814408738280812\n",
      "Kurtosis:\n",
      "-0.4346305340273977\n",
      "\n",
      "------ SUMBU UTAMA ---------\n",
      "Rata-rata:\n",
      "116.04517136778003\n",
      "Median:\n",
      "115.40513994999999\n",
      "Modus:\n",
      "Data unik sehingga tidak ada modus\n",
      "Standar deviasi:\n",
      "18.28262595755936\n",
      "Variansi:\n",
      "334.25441190402336\n",
      "Range:\n",
      "153.79546865999998\n",
      "Nilai minimun:\n",
      "74.13311404\n",
      "Nilai maksimum:\n",
      "227.9285827\n",
      "Kuartil:\n",
      "0.00     74.133114\n",
      "0.25    104.116098\n",
      "0.50    115.405140\n",
      "0.75    129.046792\n",
      "1.00    227.928583\n",
      "Name: SumbuUtama, dtype: float64\n",
      "IQR:\n",
      "24.93069385000001\n",
      "Skewness:\n",
      "0.7615287378076631\n",
      "Kurtosis:\n",
      "4.330533548436968\n",
      "\n",
      "------ SUMBU KECIL ---------\n",
      "Rata-rata:\n",
      "53.71524598896002\n",
      "Median:\n",
      "53.731198774999996\n",
      "Modus:\n",
      "Data unik sehingga tidak ada modus\n",
      "Standar deviasi:\n",
      "4.071074752475035\n",
      "Variansi:\n",
      "16.573649640239662\n",
      "Range:\n",
      "29.071182429999993\n",
      "Nilai minimun:\n",
      "39.90651744\n",
      "Nilai maksimum:\n",
      "68.97769987\n",
      "Kuartil:\n",
      "0.00    39.906517\n",
      "0.25    51.193576\n",
      "0.50    53.731199\n",
      "0.75    56.325158\n",
      "1.00    68.977700\n",
      "Name: SumbuKecil, dtype: float64\n",
      "IQR:\n",
      "5.131581650000001\n",
      "Skewness:\n",
      "-0.010828051555611359\n",
      "Kurtosis:\n",
      "0.47556845043813656\n",
      "\n",
      "------ KEUNIKAN ---------\n",
      "Rata-rata:\n",
      "0.878763914340001\n",
      "Median:\n",
      "0.8900454185\n",
      "Modus:\n",
      "Data unik sehingga tidak ada modus\n",
      "Standar deviasi:\n",
      "0.03658590550477702\n",
      "Variansi:\n",
      "0.0013385284816044736\n",
      "Range:\n",
      "0.19408517999999997\n",
      "Nilai minimun:\n",
      "0.7199162259999999\n",
      "Nilai maksimum:\n",
      "0.9140014059999999\n",
      "Kuartil:\n",
      "0.00    0.719916\n",
      "0.25    0.863676\n",
      "0.50    0.890045\n",
      "0.75    0.907578\n",
      "1.00    0.914001\n",
      "Name: Keunikan, dtype: float64\n",
      "IQR:\n",
      "0.04390216424999993\n",
      "Skewness:\n",
      "-1.6234718222806501\n",
      "Kurtosis:\n",
      "2.917255925694389\n",
      "\n",
      "------ AREA BULATAN ---------\n",
      "Rata-rata:\n",
      "4937.048\n",
      "Median:\n",
      "4857.0\n",
      "Modus:\n",
      "0    3802\n",
      "1    4913\n",
      "dtype: int64\n",
      "Standar deviasi:\n",
      "1011.6962549701573\n",
      "Variansi:\n",
      "1023529.3123206415\n",
      "Range:\n",
      "5141\n",
      "Nilai minimun:\n",
      "2579\n",
      "Nilai maksimum:\n",
      "7720\n",
      "Kuartil:\n",
      "0.00    2579.00\n",
      "0.25    4170.25\n",
      "0.50    4857.00\n",
      "0.75    5654.25\n",
      "1.00    7720.00\n",
      "Name: AreaBulatan, dtype: float64\n",
      "IQR:\n",
      "1484.0\n",
      "Skewness:\n",
      "0.2575600053152032\n",
      "Kurtosis:\n",
      "-0.40968492037366033\n",
      "\n",
      "------ DIAMETER ---------\n",
      "Rata-rata:\n",
      "77.77115780832005\n",
      "Median:\n",
      "77.64527658\n",
      "Modus:\n",
      "0    71.293564\n",
      "1    78.833256\n",
      "2    84.756224\n",
      "3    88.006342\n",
      "dtype: float64\n",
      "Standar deviasi:\n",
      "8.056867291849715\n",
      "Variansi:\n",
      "64.91311055847777\n",
      "Range:\n",
      "40.747172240000005\n",
      "Nilai minimun:\n",
      "56.66665803\n",
      "Nilai maksimum:\n",
      "97.41383027\n",
      "Kuartil:\n",
      "0.00    56.666658\n",
      "0.25    71.745308\n",
      "0.50    77.645277\n",
      "0.75    83.648598\n",
      "1.00    97.413830\n",
      "Name: Diameter, dtype: float64\n",
      "IQR:\n",
      "11.903290020000014\n",
      "Skewness:\n",
      "0.002724966865193717\n",
      "Kurtosis:\n",
      "-0.4664545130312141\n",
      "\n",
      "------ KADAR AIR ---------\n",
      "Rata-rata:\n",
      "0.6483716718980002\n",
      "Median:\n",
      "0.626116699\n",
      "Modus:\n",
      "0    0.735849\n",
      "1    0.824405\n",
      "dtype: float64\n",
      "Standar deviasi:\n",
      "0.0943670980937953\n",
      "Variansi:\n",
      "0.008905149202643984\n",
      "Range:\n",
      "0.46897193099999995\n",
      "Nilai minimun:\n",
      "0.409927152\n",
      "Nilai maksimum:\n",
      "0.878899083\n",
      "Kuartil:\n",
      "0.00    0.409927\n",
      "0.25    0.572632\n",
      "0.50    0.626117\n",
      "0.75    0.726633\n",
      "1.00    0.878899\n",
      "Name: KadarAir, dtype: float64\n",
      "IQR:\n",
      "0.15400088725000005\n",
      "Skewness:\n",
      "0.49366131797330265\n",
      "Kurtosis:\n",
      "-0.7403261705867821\n",
      "\n",
      "------ KELILING ---------\n",
      "Rata-rata:\n",
      "281.479722\n",
      "Median:\n",
      "280.04549999999995\n",
      "Modus:\n",
      "Data unik sehingga tidak ada modus\n",
      "Standar deviasi:\n",
      "37.335401715143995\n",
      "Variansi:\n",
      "1393.9322212311772\n",
      "Range:\n",
      "291.822\n",
      "Nilai minimun:\n",
      "197.015\n",
      "Nilai maksimum:\n",
      "488.837\n",
      "Kuartil:\n",
      "0.00    197.0150\n",
      "0.25    255.8830\n",
      "0.50    280.0455\n",
      "0.75    306.0625\n",
      "1.00    488.8370\n",
      "Name: Keliling, dtype: float64\n",
      "IQR:\n",
      "50.17950000000002\n",
      "Skewness:\n",
      "0.7336269072005543\n",
      "Kurtosis:\n",
      "2.272684731245571\n",
      "\n",
      "------ BULATAN ---------\n",
      "Rata-rata:\n",
      "0.7617374363080005\n",
      "Median:\n",
      "0.7612884395\n",
      "Modus:\n",
      "Data unik sehingga tidak ada modus\n",
      "Standar deviasi:\n",
      "0.0617024607867326\n",
      "Variansi:\n",
      "0.0038071936671382743\n",
      "Range:\n",
      "0.7301581349999999\n",
      "Nilai minimun:\n",
      "0.174590178\n",
      "Nilai maksimum:\n",
      "0.9047483129999999\n",
      "Kuartil:\n",
      "0.00    0.174590\n",
      "0.25    0.731991\n",
      "0.50    0.761288\n",
      "0.75    0.796361\n",
      "1.00    0.904748\n",
      "Name: Bulatan, dtype: float64\n",
      "IQR:\n",
      "0.06437024175000006\n",
      "Skewness:\n",
      "-3.5992367663616407\n",
      "Kurtosis:\n",
      "29.97509590463005\n",
      "\n",
      "------ RANSUM ---------\n",
      "Rata-rata:\n",
      "2.150915331084002\n",
      "Median:\n",
      "2.1935990365\n",
      "Modus:\n",
      "Data unik sehingga tidak ada modus\n",
      "Standar deviasi:\n",
      "0.24976688927065827\n",
      "Variansi:\n",
      "0.06238349897594127\n",
      "Range:\n",
      "1.0240129659999997\n",
      "Nilai minimun:\n",
      "1.440795615\n",
      "Nilai maksimum:\n",
      "2.4648085809999998\n",
      "Kuartil:\n",
      "0.00    1.440796\n",
      "0.25    1.983939\n",
      "0.50    2.193599\n",
      "0.75    2.381612\n",
      "1.00    2.464809\n",
      "Name: Ransum, dtype: float64\n",
      "IQR:\n",
      "0.3976734275\n",
      "Skewness:\n",
      "-0.6581880925333653\n",
      "Kurtosis:\n",
      "-0.4286557930626156\n"
     ]
    }
   ],
   "source": [
    "import pandas as pd\n",
    "import matplotlib.pyplot as plt\n",
    "import seaborn as sns\n",
    "\n",
    "\n",
    "df = pd.read_csv(\"Gandum.csv\", names=[\"id\", \"Daerah\", \"SumbuUtama\", \"SumbuKecil\", \"Keunikan\", \"AreaBulatan\", \"Diameter\", \"KadarAir\", \"Keliling\", \"Bulatan\", \"Ransum\", \"Kelas\"])\n",
    "# soal 1\n",
    "print(\"------ DAERAH ---------\")\n",
    "print(\"Rata-rata:\")\n",
    "print(df[\"Daerah\"].mean())\n",
    "print(\"Median:\")\n",
    "print(df[\"Daerah\"].median())\n",
    "print(\"Modus:\")\n",
    "print(df[\"Daerah\"].mode())\n",
    "print(\"Standar deviasi:\")\n",
    "print(df[\"Daerah\"].std())\n",
    "print(\"Variansi:\")\n",
    "print(df[\"Daerah\"].var())\n",
    "print(\"Range:\")\n",
    "range = df[\"Daerah\"].max()-df[\"Daerah\"].min()\n",
    "print(range)\n",
    "print(\"Nilai minimun:\")\n",
    "print(df[\"Daerah\"].min())\n",
    "print(\"Nilai maksimum:\")\n",
    "print(df[\"Daerah\"].max())\n",
    "print(\"Kuartil:\")\n",
    "print(df[\"Daerah\"].quantile([0,0.25,0.50,0.75,1]))\n",
    "print(\"IQR:\")\n",
    "Q1 = df[\"Daerah\"].quantile(0.25)\n",
    "Q3 = df[\"Daerah\"].quantile(0.75)\n",
    "IQR = Q3-Q1\n",
    "print(IQR)\n",
    "print(\"Skewness:\")\n",
    "print(df[\"Daerah\"].skew())\n",
    "print(\"Kurtosis:\")\n",
    "print(df[\"Daerah\"].kurt())\n",
    "print(\"\")\n",
    "\n",
    "print(\"------ SUMBU UTAMA ---------\")\n",
    "print(\"Rata-rata:\")\n",
    "print(df[\"SumbuUtama\"].mean())\n",
    "print(\"Median:\")\n",
    "print(df[\"SumbuUtama\"].median())\n",
    "print(\"Modus:\")\n",
    "print(\"Data unik sehingga tidak ada modus\")\n",
    "print(\"Standar deviasi:\")\n",
    "print(df[\"SumbuUtama\"].std())\n",
    "print(\"Variansi:\")\n",
    "print(df[\"SumbuUtama\"].var())\n",
    "print(\"Range:\")\n",
    "range = df[\"SumbuUtama\"].max()-df[\"SumbuUtama\"].min()\n",
    "print(range)\n",
    "print(\"Nilai minimun:\")\n",
    "print(df[\"SumbuUtama\"].min())\n",
    "print(\"Nilai maksimum:\")\n",
    "print(df[\"SumbuUtama\"].max())\n",
    "print(\"Kuartil:\")\n",
    "print(df[\"SumbuUtama\"].quantile([0,0.25,0.50,0.75,1]))\n",
    "print(\"IQR:\")\n",
    "Q1 = df[\"SumbuUtama\"].quantile(0.25)\n",
    "Q3 = df[\"SumbuUtama\"].quantile(0.75)\n",
    "IQR = Q3-Q1\n",
    "print(IQR)\n",
    "print(\"Skewness:\")\n",
    "print(df[\"SumbuUtama\"].skew())\n",
    "print(\"Kurtosis:\")\n",
    "print(df[\"SumbuUtama\"].kurt())\n",
    "print(\"\")\n",
    "\n",
    "print(\"------ SUMBU KECIL ---------\")\n",
    "print(\"Rata-rata:\")\n",
    "print(df[\"SumbuKecil\"].mean())\n",
    "print(\"Median:\")\n",
    "print(df[\"SumbuKecil\"].median())\n",
    "print(\"Modus:\")\n",
    "print(\"Data unik sehingga tidak ada modus\")\n",
    "print(\"Standar deviasi:\")\n",
    "print(df[\"SumbuKecil\"].std())\n",
    "print(\"Variansi:\")\n",
    "print(df[\"SumbuKecil\"].var())\n",
    "print(\"Range:\")\n",
    "range = df[\"SumbuKecil\"].max()-df[\"SumbuKecil\"].min()\n",
    "print(range)\n",
    "print(\"Nilai minimun:\")\n",
    "print(df[\"SumbuKecil\"].min())\n",
    "print(\"Nilai maksimum:\")\n",
    "print(df[\"SumbuKecil\"].max())\n",
    "print(\"Kuartil:\")\n",
    "print(df[\"SumbuKecil\"].quantile([0,0.25,0.50,0.75,1]))\n",
    "print(\"IQR:\")\n",
    "Q1 = df[\"SumbuKecil\"].quantile(0.25)\n",
    "Q3 = df[\"SumbuKecil\"].quantile(0.75)\n",
    "IQR = Q3-Q1\n",
    "print(IQR)\n",
    "print(\"Skewness:\")\n",
    "print(df[\"SumbuKecil\"].skew())\n",
    "print(\"Kurtosis:\")\n",
    "print(df[\"SumbuKecil\"].kurt())\n",
    "print(\"\")\n",
    "\n",
    "print(\"------ KEUNIKAN ---------\")\n",
    "print(\"Rata-rata:\")\n",
    "print(df[\"Keunikan\"].mean())\n",
    "print(\"Median:\")\n",
    "print(df[\"Keunikan\"].median())\n",
    "print(\"Modus:\")\n",
    "print(\"Data unik sehingga tidak ada modus\")\n",
    "print(\"Standar deviasi:\")\n",
    "print(df[\"Keunikan\"].std())\n",
    "print(\"Variansi:\")\n",
    "print(df[\"Keunikan\"].var())\n",
    "print(\"Range:\")\n",
    "range = df[\"Keunikan\"].max()-df[\"Keunikan\"].min()\n",
    "print(range)\n",
    "print(\"Nilai minimun:\")\n",
    "print(df[\"Keunikan\"].min())\n",
    "print(\"Nilai maksimum:\")\n",
    "print(df[\"Keunikan\"].max())\n",
    "print(\"Kuartil:\")\n",
    "print(df[\"Keunikan\"].quantile([0,0.25,0.50,0.75,1]))\n",
    "print(\"IQR:\")\n",
    "Q1 = df[\"Keunikan\"].quantile(0.25)\n",
    "Q3 = df[\"Keunikan\"].quantile(0.75)\n",
    "IQR = Q3-Q1\n",
    "print(IQR)\n",
    "print(\"Skewness:\")\n",
    "print(df[\"Keunikan\"].skew())\n",
    "print(\"Kurtosis:\")\n",
    "print(df[\"Keunikan\"].kurt())\n",
    "print(\"\")\n",
    "\n",
    "print(\"------ AREA BULATAN ---------\")\n",
    "print(\"Rata-rata:\")\n",
    "print(df[\"AreaBulatan\"].mean())\n",
    "print(\"Median:\")\n",
    "print(df[\"AreaBulatan\"].median())\n",
    "print(\"Modus:\")\n",
    "print(df[\"AreaBulatan\"].mode())\n",
    "print(\"Standar deviasi:\")\n",
    "print(df[\"AreaBulatan\"].std())\n",
    "print(\"Variansi:\")\n",
    "print(df[\"AreaBulatan\"].var())\n",
    "print(\"Range:\")\n",
    "range = df[\"AreaBulatan\"].max()-df[\"AreaBulatan\"].min()\n",
    "print(range)\n",
    "print(\"Nilai minimun:\")\n",
    "print(df[\"AreaBulatan\"].min())\n",
    "print(\"Nilai maksimum:\")\n",
    "print(df[\"AreaBulatan\"].max())\n",
    "print(\"Kuartil:\")\n",
    "print(df[\"AreaBulatan\"].quantile([0,0.25,0.50,0.75,1]))\n",
    "print(\"IQR:\")\n",
    "Q1 = df[\"AreaBulatan\"].quantile(0.25)\n",
    "Q3 = df[\"AreaBulatan\"].quantile(0.75)\n",
    "IQR = Q3-Q1\n",
    "print(IQR)\n",
    "print(\"Skewness:\")\n",
    "print(df[\"AreaBulatan\"].skew())\n",
    "print(\"Kurtosis:\")\n",
    "print(df[\"AreaBulatan\"].kurt())\n",
    "print(\"\")\n",
    "\n",
    "print(\"------ DIAMETER ---------\")\n",
    "print(\"Rata-rata:\")\n",
    "print(df[\"Diameter\"].mean())\n",
    "print(\"Median:\")\n",
    "print(df[\"Diameter\"].median())\n",
    "print(\"Modus:\")\n",
    "print(df[\"Diameter\"].mode())\n",
    "print(\"Standar deviasi:\")\n",
    "print(df[\"Diameter\"].std())\n",
    "print(\"Variansi:\")\n",
    "print(df[\"Diameter\"].var())\n",
    "print(\"Range:\")\n",
    "range = df[\"Diameter\"].max()-df[\"Diameter\"].min()\n",
    "print(range)\n",
    "print(\"Nilai minimun:\")\n",
    "print(df[\"Diameter\"].min())\n",
    "print(\"Nilai maksimum:\")\n",
    "print(df[\"Diameter\"].max())\n",
    "print(\"Kuartil:\")\n",
    "print(df[\"Diameter\"].quantile([0,0.25,0.50,0.75,1]))\n",
    "print(\"IQR:\")\n",
    "Q1 = df[\"Diameter\"].quantile(0.25)\n",
    "Q3 = df[\"Diameter\"].quantile(0.75)\n",
    "IQR = Q3-Q1\n",
    "print(IQR)\n",
    "print(\"Skewness:\")\n",
    "print(df[\"Diameter\"].skew())\n",
    "print(\"Kurtosis:\")\n",
    "print(df[\"Diameter\"].kurt())\n",
    "print(\"\")\n",
    "\n",
    "print(\"------ KADAR AIR ---------\")\n",
    "print(\"Rata-rata:\")\n",
    "print(df[\"KadarAir\"].mean())\n",
    "print(\"Median:\")\n",
    "print(df[\"KadarAir\"].median())\n",
    "print(\"Modus:\")\n",
    "print(df[\"KadarAir\"].mode())\n",
    "print(\"Standar deviasi:\")\n",
    "print(df[\"KadarAir\"].std())\n",
    "print(\"Variansi:\")\n",
    "print(df[\"KadarAir\"].var())\n",
    "print(\"Range:\")\n",
    "range = df[\"KadarAir\"].max()-df[\"KadarAir\"].min()\n",
    "print(range)\n",
    "print(\"Nilai minimun:\")\n",
    "print(df[\"KadarAir\"].min())\n",
    "print(\"Nilai maksimum:\")\n",
    "print(df[\"KadarAir\"].max())\n",
    "print(\"Kuartil:\")\n",
    "print(df[\"KadarAir\"].quantile([0,0.25,0.50,0.75,1]))\n",
    "print(\"IQR:\")\n",
    "Q1 = df[\"KadarAir\"].quantile(0.25)\n",
    "Q3 = df[\"KadarAir\"].quantile(0.75)\n",
    "IQR = Q3-Q1\n",
    "print(IQR)\n",
    "print(\"Skewness:\")\n",
    "print(df[\"KadarAir\"].skew())\n",
    "print(\"Kurtosis:\")\n",
    "print(df[\"KadarAir\"].kurt())\n",
    "print(\"\")\n",
    "\n",
    "print(\"------ KELILING ---------\")\n",
    "print(\"Rata-rata:\")\n",
    "print(df[\"Keliling\"].mean())\n",
    "print(\"Median:\")\n",
    "print(df[\"Keliling\"].median())\n",
    "print(\"Modus:\")\n",
    "print(\"Data unik sehingga tidak ada modus\")\n",
    "print(\"Standar deviasi:\")\n",
    "print(df[\"Keliling\"].std())\n",
    "print(\"Variansi:\")\n",
    "print(df[\"Keliling\"].var())\n",
    "print(\"Range:\")\n",
    "range = df[\"Keliling\"].max()-df[\"Keliling\"].min()\n",
    "print(range)\n",
    "print(\"Nilai minimun:\")\n",
    "print(df[\"Keliling\"].min())\n",
    "print(\"Nilai maksimum:\")\n",
    "print(df[\"Keliling\"].max())\n",
    "print(\"Kuartil:\")\n",
    "print(df[\"Keliling\"].quantile([0,0.25,0.50,0.75,1]))\n",
    "print(\"IQR:\")\n",
    "Q1 = df[\"Keliling\"].quantile(0.25)\n",
    "Q3 = df[\"Keliling\"].quantile(0.75)\n",
    "IQR = Q3-Q1\n",
    "print(IQR)\n",
    "print(\"Skewness:\")\n",
    "print(df[\"Keliling\"].skew())\n",
    "print(\"Kurtosis:\")\n",
    "print(df[\"Keliling\"].kurt())\n",
    "print(\"\")\n",
    "\n",
    "print(\"------ BULATAN ---------\")\n",
    "print(\"Rata-rata:\")\n",
    "print(df[\"Bulatan\"].mean())\n",
    "print(\"Median:\")\n",
    "print(df[\"Bulatan\"].median())\n",
    "print(\"Modus:\")\n",
    "print(\"Data unik sehingga tidak ada modus\")\n",
    "print(\"Standar deviasi:\")\n",
    "print(df[\"Bulatan\"].std())\n",
    "print(\"Variansi:\")\n",
    "print(df[\"Bulatan\"].var())\n",
    "print(\"Range:\")\n",
    "range = df[\"Bulatan\"].max()-df[\"Bulatan\"].min()\n",
    "print(range)\n",
    "print(\"Nilai minimun:\")\n",
    "print(df[\"Bulatan\"].min())\n",
    "print(\"Nilai maksimum:\")\n",
    "print(df[\"Bulatan\"].max())\n",
    "print(\"Kuartil:\")\n",
    "print(df[\"Bulatan\"].quantile([0,0.25,0.50,0.75,1]))\n",
    "print(\"IQR:\")\n",
    "Q1 = df[\"Bulatan\"].quantile(0.25)\n",
    "Q3 = df[\"Bulatan\"].quantile(0.75)\n",
    "IQR = Q3-Q1\n",
    "print(IQR)\n",
    "print(\"Skewness:\")\n",
    "print(df[\"Bulatan\"].skew())\n",
    "print(\"Kurtosis:\")\n",
    "print(df[\"Bulatan\"].kurt())\n",
    "print(\"\")\n",
    "\n",
    "print(\"------ RANSUM ---------\")\n",
    "print(\"Rata-rata:\")\n",
    "print(df[\"Ransum\"].mean())\n",
    "print(\"Median:\")\n",
    "print(df[\"Ransum\"].median())\n",
    "print(\"Modus:\")\n",
    "print(\"Data unik sehingga tidak ada modus\")\n",
    "print(\"Standar deviasi:\")\n",
    "print(df[\"Ransum\"].std())\n",
    "print(\"Variansi:\")\n",
    "print(df[\"Ransum\"].var())\n",
    "print(\"Range:\")\n",
    "range = df[\"Ransum\"].max()-df[\"Ransum\"].min()\n",
    "print(range)\n",
    "print(\"Nilai minimun:\")\n",
    "print(df[\"Ransum\"].min())\n",
    "print(\"Nilai maksimum:\")\n",
    "print(df[\"Ransum\"].max())\n",
    "print(\"Kuartil:\")\n",
    "print(df[\"Ransum\"].quantile([0,0.25,0.50,0.75,1]))\n",
    "print(\"IQR:\")\n",
    "Q1 = df[\"Ransum\"].quantile(0.25)\n",
    "Q3 = df[\"Ransum\"].quantile(0.75)\n",
    "IQR = Q3-Q1\n",
    "print(IQR)\n",
    "print(\"Skewness:\")\n",
    "print(df[\"Ransum\"].skew())\n",
    "print(\"Kurtosis:\")\n",
    "print(df[\"Ransum\"].kurt())"
   ]
  },
  {
   "cell_type": "code",
   "execution_count": 66,
   "metadata": {},
   "outputs": [
    {
     "data": {
      "image/png": "[encoded data removed]",
      "text/plain": [
       "<Figure size 432x288 with 1 Axes>"
      ]
     },
     "metadata": {
      "needs_background": "light"
     },
     "output_type": "display_data"
    }
   ],
   "source": [
    "# soal 2: boxplot daerah dan area bulatan\n",
    "%matplotlib inline\n",
    "boxplot = df.boxplot(column=[\"Daerah\", \"AreaBulatan\"])"
   ]
  },
  {
   "cell_type": "code",
   "execution_count": 67,
   "metadata": {},
   "outputs": [
    {
     "data": {
      "image/png": "[encoded data removed]",
      "text/plain": [
       "<Figure size 432x288 with 1 Axes>"
      ]
     },
     "metadata": {
      "needs_background": "light"
     },
     "output_type": "display_data"
    }
   ],
   "source": [
    "# soal 2: boxplot sumbu utama\n",
    "%matplotlib inline\n",
    "boxplot = df.boxplot(column=[\"SumbuUtama\"])"
   ]
  },
  {
   "cell_type": "code",
   "execution_count": 68,
   "metadata": {},
   "outputs": [
    {
     "data": {
      "image/png": "[encoded data removed]",
      "text/plain": [
       "<Figure size 432x288 with 1 Axes>"
      ]
     },
     "metadata": {
      "needs_background": "light"
     },
     "output_type": "display_data"
    }
   ],
   "source": [
    "# soal 2: boxplot sumbu kecil\n",
    "%matplotlib inline\n",
    "boxplot = df.boxplot(column=[\"SumbuKecil\"])"
   ]
  },
  {
   "cell_type": "code",
   "execution_count": 69,
   "metadata": {},
   "outputs": [
    {
     "data": {
      "image/png": "[encoded data removed]",
      "text/plain": [
       "<Figure size 432x288 with 1 Axes>"
      ]
     },
     "metadata": {
      "needs_background": "light"
     },
     "output_type": "display_data"
    }
   ],
   "source": [
    "# soal 2: boxplot keunikan\n",
    "%matplotlib inline\n",
    "boxplot = df.boxplot(column=[\"Keunikan\"])"
   ]
  },
  {
   "cell_type": "code",
   "execution_count": 70,
   "metadata": {},
   "outputs": [
    {
     "data": {
      "image/png": "[encoded data removed]",
      "text/plain": [
       "<Figure size 432x288 with 1 Axes>"
      ]
     },
     "metadata": {
      "needs_background": "light"
     },
     "output_type": "display_data"
    }
   ],
   "source": [
    "# soal 2: boxplot diameter\n",
    "%matplotlib inline\n",
    "boxplot = df.boxplot(column=[\"Diameter\"])"
   ]
  },
  {
   "cell_type": "code",
   "execution_count": 71,
   "metadata": {},
   "outputs": [
    {
     "data": {
      "image/png": "[encoded data removed]",
      "text/plain": [
       "<Figure size 432x288 with 1 Axes>"
      ]
     },
     "metadata": {
      "needs_background": "light"
     },
     "output_type": "display_data"
    }
   ],
   "source": [
    "# soal 2: boxplot kadar air dan bulatan\n",
    "%matplotlib inline\n",
    "boxplot = df.boxplot(column=[\"KadarAir\",\"Bulatan\"])"
   ]
  },
  {
   "cell_type": "code",
   "execution_count": 72,
   "metadata": {},
   "outputs": [
    {
     "data": {
      "image/png": "[encoded data removed]",
      "text/plain": [
       "<Figure size 432x288 with 1 Axes>"
      ]
     },
     "metadata": {
      "needs_background": "light"
     },
     "output_type": "display_data"
    }
   ],
   "source": [
    "# soal 2: boxplot keliling\n",
    "%matplotlib inline\n",
    "boxplot = df.boxplot(column=[\"Keliling\"])"
   ]
  },
  {
   "cell_type": "code",
   "execution_count": 73,
   "metadata": {},
   "outputs": [
    {
     "data": {
      "image/png": "[encoded data removed]",
      "text/plain": [
       "<Figure size 432x288 with 1 Axes>"
      ]
     },
     "metadata": {
      "needs_background": "light"
     },
     "output_type": "display_data"
    }
   ],
   "source": [
    "# soal 2: boxplot ransum\n",
    "%matplotlib inline\n",
    "boxplot = df.boxplot(column=[\"Ransum\"])"
   ]
  },
  {
   "cell_type": "code",
   "execution_count": 74,
   "metadata": {},
   "outputs": [
    {
     "name": "stdout",
     "output_type": "stream",
     "text": [
      "stat=10.859, p=0.004\n",
      "\n",
      "Tidak terdistribusi normal\n"
     ]
    },
    {
     "data": {
      "image/png": "[encoded data removed]",
      "text/plain": [
       "<Figure size 864x576 with 1 Axes>"
      ]
     },
     "metadata": {
      "needs_background": "light"
     },
     "output_type": "display_data"
    }
   ],
   "source": [
    "# soal 2: histogram daerah\n",
    "from scipy.stats import normaltest\n",
    "df[\"Daerah\"].plot.hist(bins=100,figsize=(12,8),rwidth=0.5)\n",
    "stat, p = normaltest(df[\"Daerah\"])\n",
    "print(\"stat=%.3f, p=%.3f\\n\" % (stat, p))\n",
    "if (p > 0.05):\n",
    "    print(\"Terdistribusi normal\")\n",
    "else:\n",
    "    print(\"Tidak terdistribusi normal\")"
   ]
  },
  {
   "cell_type": "code",
   "execution_count": 75,
   "metadata": {},
   "outputs": [
    {
     "name": "stdout",
     "output_type": "stream",
     "text": [
      "stat=95.120, p=0.000\n",
      "\n",
      "Tidak terdistribusi normal\n"
     ]
    },
    {
     "data": {
      "image/png": "[encoded data removed]",
      "text/plain": [
       "<Figure size 864x576 with 1 Axes>"
      ]
     },
     "metadata": {
      "needs_background": "light"
     },
     "output_type": "display_data"
    }
   ],
   "source": [
    "# soal 2: histogram sumbu utama\n",
    "df[\"SumbuUtama\"].plot.hist(bins=100,figsize=(12,8),rwidth=0.5)\n",
    "stat, p = normaltest(df[\"SumbuUtama\"])\n",
    "print(\"stat=%.3f, p=%.3f\\n\" % (stat, p))\n",
    "if (p > 0.05):\n",
    "    print(\"Terdistribusi normal\")\n",
    "else:\n",
    "    print(\"Tidak terdistribusi normal\")"
   ]
  },
  {
   "cell_type": "code",
   "execution_count": 76,
   "metadata": {},
   "outputs": [
    {
     "name": "stdout",
     "output_type": "stream",
     "text": [
      "stat=3.698, p=0.157\n",
      "\n",
      "Terdistribusi normal\n"
     ]
    },
    {
     "data": {
      "image/png": "[encoded data removed]",
      "text/plain": [
       "<Figure size 864x576 with 1 Axes>"
      ]
     },
     "metadata": {
      "needs_background": "light"
     },
     "output_type": "display_data"
    }
   ],
   "source": [
    "# soal 2: histogram sumbu kecil\n",
    "df[\"SumbuKecil\"].plot.hist(bins=100,figsize=(12,8),rwidth=0.5)\n",
    "stat, p = normaltest(df[\"SumbuKecil\"])\n",
    "print(\"stat=%.3f, p=%.3f\\n\" % (stat, p))\n",
    "if (p > 0.05):\n",
    "    print(\"Terdistribusi normal\")\n",
    "else:\n",
    "    print(\"Tidak terdistribusi normal\")"
   ]
  },
  {
   "cell_type": "code",
   "execution_count": 77,
   "metadata": {},
   "outputs": [
    {
     "name": "stdout",
     "output_type": "stream",
     "text": [
      "stat=158.617, p=0.000\n",
      "\n",
      "Tidak terdistribusi normal\n"
     ]
    },
    {
     "data": {
      "image/png": "[encoded data removed]",
      "text/plain": [
       "<Figure size 864x576 with 1 Axes>"
      ]
     },
     "metadata": {
      "needs_background": "light"
     },
     "output_type": "display_data"
    }
   ],
   "source": [
    "# soal 2: histogram keuinkan\n",
    "df[\"Keunikan\"].plot.hist(bins=100,figsize=(12,8),rwidth=0.5)\n",
    "stat, p = normaltest(df[\"Keunikan\"])\n",
    "print(\"stat=%.3f, p=%.3f\\n\" % (stat, p))\n",
    "if (p > 0.05):\n",
    "    print(\"Terdistribusi normal\")\n",
    "else:\n",
    "    print(\"Tidak terdistribusi normal\")"
   ]
  },
  {
   "cell_type": "code",
   "execution_count": 78,
   "metadata": {},
   "outputs": [
    {
     "name": "stdout",
     "output_type": "stream",
     "text": [
      "stat=10.739, p=0.005\n",
      "\n",
      "Tidak terdistribusi normal\n"
     ]
    },
    {
     "data": {
      "image/png": "[encoded data removed]",
      "text/plain": [
       "<Figure size 864x576 with 1 Axes>"
      ]
     },
     "metadata": {
      "needs_background": "light"
     },
     "output_type": "display_data"
    }
   ],
   "source": [
    "# soal 2: histogram area bulatan\n",
    "df[\"AreaBulatan\"].plot.hist(bins=100,figsize=(12,8),rwidth=0.5)\n",
    "stat, p = normaltest(df[\"AreaBulatan\"])\n",
    "print(\"stat=%.3f, p=%.3f\\n\" % (stat, p))\n",
    "if (p > 0.05):\n",
    "    print(\"Terdistribusi normal\")\n",
    "else:\n",
    "    print(\"Tidak terdistribusi normal\")"
   ]
  },
  {
   "cell_type": "code",
   "execution_count": 79,
   "metadata": {},
   "outputs": [
    {
     "name": "stdout",
     "output_type": "stream",
     "text": [
      "stat=7.446, p=0.024\n",
      "\n",
      "Tidak terdistribusi normal\n"
     ]
    },
    {
     "data": {
      "image/png": "[encoded data removed]",
      "text/plain": [
       "<Figure size 864x576 with 1 Axes>"
      ]
     },
     "metadata": {
      "needs_background": "light"
     },
     "output_type": "display_data"
    }
   ],
   "source": [
    "# soal 2: histogram diameter\n",
    "df[\"Diameter\"].plot.hist(bins=100,figsize=(12,8),rwidth=0.5)\n",
    "stat, p = normaltest(df[\"Diameter\"])\n",
    "print(\"stat=%.3f, p=%.3f\\n\" % (stat, p))\n",
    "if (p > 0.05):\n",
    "    print(\"Terdistribusi normal\")\n",
    "else:\n",
    "    print(\"Tidak terdistribusi normal\")"
   ]
  },
  {
   "cell_type": "code",
   "execution_count": 80,
   "metadata": {},
   "outputs": [
    {
     "name": "stdout",
     "output_type": "stream",
     "text": [
      "stat=48.756, p=0.000\n",
      "\n",
      "Tidak terdistribusi normal\n"
     ]
    },
    {
     "data": {
      "image/png": "[encoded data removed]",
      "text/plain": [
       "<Figure size 864x576 with 1 Axes>"
      ]
     },
     "metadata": {
      "needs_background": "light"
     },
     "output_type": "display_data"
    }
   ],
   "source": [
    "# soal 2: histogram kadar air\n",
    "df[\"KadarAir\"].plot.hist(bins=100,figsize=(12,8),rwidth=0.5)\n",
    "stat, p = normaltest(df[\"KadarAir\"])\n",
    "print(\"stat=%.3f, p=%.3f\\n\" % (stat, p))\n",
    "if (p > 0.05):\n",
    "    print(\"Terdistribusi normal\")\n",
    "else:\n",
    "    print(\"Tidak terdistribusi normal\")"
   ]
  },
  {
   "cell_type": "code",
   "execution_count": 82,
   "metadata": {},
   "outputs": [
    {
     "name": "stdout",
     "output_type": "stream",
     "text": [
      "stat=67.465, p=0.000\n",
      "\n",
      "Tidak terdistribusi normal\n"
     ]
    },
    {
     "data": {
      "image/png": "[encoded data removed]",
      "text/plain": [
       "<Figure size 864x576 with 1 Axes>"
      ]
     },
     "metadata": {
      "needs_background": "light"
     },
     "output_type": "display_data"
    }
   ],
   "source": [
    "# soal 2: histogram keliling\n",
    "df[\"Keliling\"].plot.hist(bins=100,figsize=(12,8),rwidth=0.5)\n",
    "# sns.distplot(df['Keliling'],color='#86bf91', bins=100)\n",
    "stat, p = normaltest(df[\"Keliling\"])\n",
    "print(\"stat=%.3f, p=%.3f\\n\" % (stat, p))\n",
    "if (p > 0.05):\n",
    "    print(\"Terdistribusi normal\")\n",
    "else:\n",
    "    print(\"Tidak terdistribusi normal\")"
   ]
  },
  {
   "cell_type": "code",
   "execution_count": 63,
   "metadata": {},
   "outputs": [
    {
     "name": "stdout",
     "output_type": "stream",
     "text": [
      "stat=442.119, p=0.000\n",
      "\n",
      "Tidak terdistribusi normal\n"
     ]
    },
    {
     "data": {
      "image/png": "[encoded data removed]",
      "text/plain": [
       "<Figure size 864x576 with 1 Axes>"
      ]
     },
     "metadata": {
      "needs_background": "light"
     },
     "output_type": "display_data"
    }
   ],
   "source": [
    "# soal 2: histogram bulatan\n",
    "df[\"Bulatan\"].plot.hist(bins=100,figsize=(12,8),rwidth=0.5)\n",
    "stat, p = normaltest(df[\"Bulatan\"])\n",
    "print(\"stat=%.3f, p=%.3f\\n\" % (stat, p))\n",
    "if (p > 0.05):\n",
    "    print(\"Terdistribusi normal\")\n",
    "else:\n",
    "    print(\"Tidak terdistribusi normal\")"
   ]
  },
  {
   "cell_type": "code",
   "execution_count": 248,
   "metadata": {},
   "outputs": [
    {
     "name": "stdout",
     "output_type": "stream",
     "text": [
      "stat=37.060, p=0.000\n",
      "\n",
      "Tidak terdistribusi normal\n"
     ]
    },
    {
     "data": {
      "image/png": "[encoded data removed]",
      "text/plain": [
       "<Figure size 432x288 with 1 Axes>"
      ]
     },
     "metadata": {
      "needs_background": "light"
     },
     "output_type": "display_data"
    }
   ],
   "source": [
    "# soal 2: histogram ransum\n",
    "df[\"Ransum\"].plot.hist(bins=20)\n",
    "stat, p = normaltest(df[\"Ransum\"])\n",
    "print(\"stat=%.3f, p=%.3f\\n\" % (stat, p))\n",
    "if (p > 0.05):\n",
    "    print(\"Terdistribusi normal\")\n",
    "else:\n",
    "    print(\"Tidak terdistribusi normal\")"
   ]
  },
  {
   "cell_type": "code",
   "execution_count": 20,
   "metadata": {},
   "outputs": [
    {
     "name": "stdout",
     "output_type": "stream",
     "text": [
      "-0.6027466517416654\n",
      "Daerah berkorelasi kuat negatif dengan kelas\n"
     ]
    },
    {
     "data": {
      "image/png": "[encoded data removed]",
      "text/plain": [
       "<Figure size 432x288 with 1 Axes>"
      ]
     },
     "metadata": {
      "needs_background": "light"
     },
     "output_type": "display_data"
    }
   ],
   "source": [
    "# soal 6: scatter plot kelas dengan daerah\n",
    "df.plot(kind='scatter',x='Daerah',y='Kelas',color='red')\n",
    "print(df[\"Daerah\"].corr(df[\"Kelas\"]))\n",
    "print(\"Daerah berkorelasi kuat negatif dengan kelas\")"
   ]
  },
  {
   "cell_type": "code",
   "execution_count": 21,
   "metadata": {},
   "outputs": [
    {
     "name": "stdout",
     "output_type": "stream",
     "text": [
      "-0.7130906104204592\n",
      "Sumbu Utama berkorelasi kuat negatif dengan kelas\n"
     ]
    },
    {
     "data": {
      "image/png": "[encoded data removed]",
      "text/plain": [
       "<Figure size 432x288 with 1 Axes>"
      ]
     },
     "metadata": {
      "needs_background": "light"
     },
     "output_type": "display_data"
    }
   ],
   "source": [
    "# soal 6: scatter plot kelas dengan sumbu utama\n",
    "df.plot(kind='scatter',x='SumbuUtama',y='Kelas',color='red')\n",
    "print(df[\"SumbuUtama\"].corr(df[\"Kelas\"]))\n",
    "print(\"Sumbu Utama berkorelasi kuat negatif dengan kelas\")"
   ]
  },
  {
   "cell_type": "code",
   "execution_count": 22,
   "metadata": {},
   "outputs": [
    {
     "name": "stdout",
     "output_type": "stream",
     "text": [
      "-0.15297517335535024\n",
      "Sumbu Kecil berkorelasi sangat lemah negatif dengan kelas\n"
     ]
    },
    {
     "data": {
      "image/png": "[encoded data removed]",
      "text/plain": [
       "<Figure size 432x288 with 1 Axes>"
      ]
     },
     "metadata": {
      "needs_background": "light"
     },
     "output_type": "display_data"
    }
   ],
   "source": [
    "# soal 6: scatter plot kelas dengan sumbu kecil\n",
    "df.plot(kind='scatter',x='SumbuKecil',y='Kelas',color='red')\n",
    "print(df[\"SumbuKecil\"].corr(df[\"Kelas\"]))\n",
    "print(\"Sumbu Kecil berkorelasi sangat lemah negatif dengan kelas\")"
   ]
  },
  {
   "cell_type": "code",
   "execution_count": 23,
   "metadata": {},
   "outputs": [
    {
     "name": "stdout",
     "output_type": "stream",
     "text": [
      "-0.7304563686511927\n",
      "Keunikan berkorelasi kuat negatif dengan kelas\n"
     ]
    },
    {
     "data": {
      "image/png": "[encoded data removed]",
      "text/plain": [
       "<Figure size 432x288 with 1 Axes>"
      ]
     },
     "metadata": {
      "needs_background": "light"
     },
     "output_type": "display_data"
    }
   ],
   "source": [
    "# soal 6: scatter plot kelas dengan keunikan\n",
    "df.plot(kind='scatter',x='Keunikan',y='Kelas',color='red')\n",
    "print(df[\"Keunikan\"].corr(df[\"Kelas\"]))\n",
    "print(\"Keunikan berkorelasi kuat negatif dengan kelas\")"
   ]
  },
  {
   "cell_type": "code",
   "execution_count": 24,
   "metadata": {},
   "outputs": [
    {
     "name": "stdout",
     "output_type": "stream",
     "text": [
      "-0.6073125434153747\n",
      "Area Bulatan berkorelasi kuat negatif dengan kelas\n"
     ]
    },
    {
     "data": {
      "image/png": "[encoded data removed]",
      "text/plain": [
       "<Figure size 432x288 with 1 Axes>"
      ]
     },
     "metadata": {
      "needs_background": "light"
     },
     "output_type": "display_data"
    }
   ],
   "source": [
    "# soal 6: scatter plot kelas dengan area bulatan\n",
    "df.plot(kind='scatter',x='AreaBulatan',y='Kelas',color='red')\n",
    "print(df[\"AreaBulatan\"].corr(df[\"Kelas\"]))\n",
    "print(\"Area Bulatan berkorelasi kuat negatif dengan kelas\")"
   ]
  },
  {
   "cell_type": "code",
   "execution_count": 25,
   "metadata": {},
   "outputs": [
    {
     "name": "stdout",
     "output_type": "stream",
     "text": [
      "-0.6025356896618811\n",
      "Diameter berkorelasi kuat negatif dengan kelas\n"
     ]
    },
    {
     "data": {
      "image/png": "[encoded data removed]",
      "text/plain": [
       "<Figure size 432x288 with 1 Axes>"
      ]
     },
     "metadata": {
      "needs_background": "light"
     },
     "output_type": "display_data"
    }
   ],
   "source": [
    "# soal 6: scatter plot kelas dengan diameter\n",
    "df.plot(kind='scatter',x='Diameter',y='Kelas',color='red')\n",
    "print(df[\"Diameter\"].corr(df[\"Kelas\"]))\n",
    "print(\"Diameter berkorelasi kuat negatif dengan kelas\")"
   ]
  },
  {
   "cell_type": "code",
   "execution_count": 26,
   "metadata": {},
   "outputs": [
    {
     "name": "stdout",
     "output_type": "stream",
     "text": [
      "0.13434422605727642\n",
      "Kadar Air berkorelasi sangat lemah positif dengan kelas\n"
     ]
    },
    {
     "data": {
      "image/png": "[encoded data removed]",
      "text/plain": [
       "<Figure size 432x288 with 1 Axes>"
      ]
     },
     "metadata": {
      "needs_background": "light"
     },
     "output_type": "display_data"
    }
   ],
   "source": [
    "# soal 6: scatter plot kelas dengan kadar air\n",
    "df.plot(kind='scatter',x='KadarAir',y='Kelas',color='red')\n",
    "print(df[\"KadarAir\"].corr(df[\"Kelas\"]))\n",
    "print(\"Kadar Air berkorelasi sangat lemah positif dengan kelas\")"
   ]
  },
  {
   "cell_type": "code",
   "execution_count": 27,
   "metadata": {},
   "outputs": [
    {
     "name": "stdout",
     "output_type": "stream",
     "text": [
      "-0.6348607454756853\n",
      "Keliling berkorelasi kuat negatif dengan kelas\n"
     ]
    },
    {
     "data": {
      "image/png": "[encoded data removed]",
      "text/plain": [
       "<Figure size 432x288 with 1 Axes>"
      ]
     },
     "metadata": {
      "needs_background": "light"
     },
     "output_type": "display_data"
    }
   ],
   "source": [
    "# soal 6: scatter plot kelas dengan Keliling\n",
    "df.plot(kind='scatter',x='Keliling',y='Kelas',color='red')\n",
    "print(df[\"Keliling\"].corr(df[\"Kelas\"]))\n",
    "print(\"Keliling berkorelasi kuat negatif dengan kelas\")"
   ]
  },
  {
   "cell_type": "code",
   "execution_count": 28,
   "metadata": {},
   "outputs": [
    {
     "name": "stdout",
     "output_type": "stream",
     "text": [
      "0.5450045317240073\n",
      "Bulatan berkorelasi sedang positif dengan kelas\n"
     ]
    },
    {
     "data": {
      "image/png": "[encoded data removed]",
      "text/plain": [
       "<Figure size 432x288 with 1 Axes>"
      ]
     },
     "metadata": {
      "needs_background": "light"
     },
     "output_type": "display_data"
    }
   ],
   "source": [
    "# soal 6: scatter plot kelas dengan Bulatan\n",
    "df.plot(kind='scatter',x='Bulatan',y='Kelas',color='red')\n",
    "print(df[\"Bulatan\"].corr(df[\"Kelas\"]))\n",
    "print(\"Bulatan berkorelasi sedang positif dengan kelas\")"
   ]
  },
  {
   "cell_type": "code",
   "execution_count": 29,
   "metadata": {},
   "outputs": [
    {
     "name": "stdout",
     "output_type": "stream",
     "text": [
      "-0.8399038681287486\n",
      "Ransum berkorelasi sangat kuat negatif dengan kelas\n"
     ]
    },
    {
     "data": {
      "image/png": "[encoded data removed]",
      "text/plain": [
       "<Figure size 432x288 with 1 Axes>"
      ]
     },
     "metadata": {
      "needs_background": "light"
     },
     "output_type": "display_data"
    }
   ],
   "source": [
    "# soal 6: scatter plot kelas dengan ransum\n",
    "df.plot(kind='scatter',x='Ransum',y='Kelas',color='red')\n",
    "print(df[\"Ransum\"].corr(df[\"Kelas\"]))\n",
    "print(\"Ransum berkorelasi sangat kuat negatif dengan kelas\")"
   ]
  },
  {
   "cell_type": "code",
   "execution_count": 37,
   "metadata": {},
   "outputs": [],
   "source": [
    "from scipy.stats import ttest_1samp\n",
    "from scipy import stats\n",
    "from scipy.stats import norm\n",
    "from statsmodels.stats.proportion import proportions_ztest\n",
    "from statsmodels.stats import weightstats as stests\n",
    "import pandas as pd\n",
    "df = pd.read_csv(\"Gandum.csv\", names=[\"id\", \"Daerah\", \"SumbuUtama\", \"SumbuKecil\", \"Keunikan\", \"AreaBulatan\", \"Diameter\", \"KadarAir\", \"Keliling\", \"Bulatan\", \"Ransum\", \"Kelas\"])\n",
    "# tset, pval = ttest_1samp(df[\"Daerah\"],4700)\n",
    "# print(pval)\n",
    "# if pval < -0.05:    # alpha value is 0.05 or 5%\n",
    "#    print(\"we are rejecting null hypothesis\")\n",
    "# else:\n",
    "#   print(\"we are accepting null hypothesis\")"
   ]
  },
  {
   "cell_type": "code",
   "execution_count": 52,
   "metadata": {},
   "outputs": [
    {
     "name": "stdout",
     "output_type": "stream",
     "text": [
      "Nilai rata-rata Daerh di atas 4700\n",
      "Enam langkah testing:\n",
      "1. Tentukan hipotesis nol atau H0\n",
      "   H0 = μ\n",
      "2. Tentukan hipotesis alternatif atau H1\n",
      "   H1 = μ > 4700\n",
      "3. Tentukan tingkat signifikan α\n",
      "   α =  0.05\n",
      "4. Tentukan uji statistik yang sesuai dan tentukan daerah kritis\n",
      "   Daerah kritis =  -1.6448536269514729\n",
      "5. Hitung uji nilai statistik dari data sample\n",
      "0.02172431039359979\n",
      "2.295153824252517\n",
      "Diterima karena tidak berada pada daerah kritis\n",
      "Ditolak\n"
     ]
    }
   ],
   "source": [
    "# tset, pval = ttest_1samp(df[\"SumbuUtama\"],116)\n",
    "# print(pval)\n",
    "# if pval > 0.05/2:    # alpha value is 0.05 or 5%\n",
    "#    print(\"we are rejecting null hypothesis\")\n",
    "# else:\n",
    "#   print(\"we are accepting null hypothesis\")\n",
    "print(\"Nilai rata-rata Daerh di atas 4700\")\n",
    "print(\"Enam langkah testing:\")\n",
    "print(\"1. Tentukan hipotesis nol atau H0\")\n",
    "print(\"   H0 = μ\")\n",
    "print(\"2. Tentukan hipotesis alternatif atau H1\")\n",
    "print(\"   H1 = μ > 4700\")\n",
    "print(\"3. Tentukan tingkat signifikan α\")\n",
    "sig = 0.05\n",
    "print(\"   α = \", sig)\n",
    "print(\"4. Tentukan uji statistik yang sesuai dan tentukan daerah kritis\")\n",
    "daerahKritis = stats.norm.ppf(sig)\n",
    "print(\"   Daerah kritis = \", daerahKritis)\n",
    "print(\"5. Hitung uji nilai statistik dari data sample\")\n",
    "ztest ,pval = stests.ztest(df[\"Daerah\"], x2=None, value=4700)\n",
    "print(float(pval))\n",
    "print(ztest)\n",
    "if (ztest < -daerahKritis):\n",
    "    print(\"Ditolak karena berada pada daerah kritis\")\n",
    "else:\n",
    "    print(\"Diterima karena tidak berada pada daerah kritis\")\n",
    "if (pval < 0.05):\n",
    "    print(\"Ditolak\")\n",
    "else:\n",
    "    print(\"Diterima\")"
   ]
  },
  {
   "cell_type": "code",
   "execution_count": 53,
   "metadata": {},
   "outputs": [
    {
     "name": "stdout",
     "output_type": "stream",
     "text": [
      "Nilai rata-rata Daerh di atas 4700\n",
      "Enam langkah testing:\n",
      "1. Tentukan hipotesis nol atau H0\n",
      "   H0 = μ\n",
      "2. Tentukan hipotesis alternatif atau H1\n",
      "   H1 = μ != 116\n",
      "3. Tentukan tingkat signifikan α\n",
      "   α =  0.05\n",
      "4. Tentukan uji statistik yang sesuai dan tentukan daerah kritis\n",
      "   Daerah kritis =  -1.9599639845400545\n",
      "5. Hitung uji nilai statistik dari data sample\n",
      "0.9559415872977383\n",
      "0.05524712326731844\n",
      "Ditolak karena berada pada daerah kritis\n",
      "Diterima\n"
     ]
    }
   ],
   "source": [
    "print(\"Nilai rata-rata Daerh di atas 4700\")\n",
    "print(\"Enam langkah testing:\")\n",
    "print(\"1. Tentukan hipotesis nol atau H0\")\n",
    "print(\"   H0 = μ\")\n",
    "print(\"2. Tentukan hipotesis alternatif atau H1\")\n",
    "print(\"   H1 = μ != 116\")\n",
    "print(\"3. Tentukan tingkat signifikan α\")\n",
    "sig = 0.05\n",
    "print(\"   α = \", sig)\n",
    "print(\"4. Tentukan uji statistik yang sesuai dan tentukan daerah kritis\")\n",
    "daerahKritis = stats.norm.ppf(sig/2)\n",
    "print(\"   Daerah kritis = \", daerahKritis)\n",
    "print(\"5. Hitung uji nilai statistik dari data sample\")\n",
    "ztest ,pval = stests.ztest(df[\"SumbuUtama\"], x2=None, value=116)\n",
    "print(float(pval))\n",
    "print(ztest)\n",
    "if (ztest > daerahKritis/2 or ztest < -daerahKritis/2):\n",
    "    print(\"Ditolak karena berada pada daerah kritis\")\n",
    "else:\n",
    "    print(\"Diterima karena tidak berada pada daerah kritis\")\n",
    "if (pval < 0.05):\n",
    "    print(\"Ditolak\")\n",
    "else:\n",
    "    print(\"Diterima\")"
   ]
  },
  {
   "cell_type": "code",
   "execution_count": 120,
   "metadata": {},
   "outputs": [
    {
     "name": "stdout",
     "output_type": "stream",
     "text": [
      "Data kolom AreaBulatan dibagi 2 sama rata: bagian awal dan bagian akhir kolom.\n",
      "Benarkah rata-rata kedua bagian tersebut sama?\n",
      "Enam langkah testing:\n",
      "1. Tentukan hipotesis nol atau H0\n",
      "   H0: μ1-μ2 = 0\n",
      "2. Tentukan hipotesis alternatif atau H1\n",
      "   H1: μ1-μ2 != 0\n",
      "3. Tentukan tingkat signifikan α\n",
      "   α =  0.05\n",
      "4. Tentukan uji statistik yang sesuai dan tentukan daerah kritis\n",
      "   Digunakan uji statistik z-test\n",
      "   Daerah kritis =  1.959963984540054\n",
      "5. Hitung uji nilai statistik dari data sample\n",
      "   Nilai uji statistik (z) =  11.59110706490166\n",
      "   Nilai p =  4.571847964461839e-31\n",
      "6. Ambil keputusan apakah H0 ditolak atau tidak\n",
      "   H0 ditolak karena nilai ztest berada di daerah kritis\n",
      "   H0 ditolak karena nilai p lebih kecil dari nilai signifikan\n"
     ]
    }
   ],
   "source": [
    "print(\"Data kolom AreaBulatan dibagi 2 sama rata: bagian awal dan bagian akhir kolom.\")\n",
    "print(\"Benarkah rata-rata kedua bagian tersebut sama?\")\n",
    "import numpy as np\n",
    "import math\n",
    "splitData = np.array_split(df,2)\n",
    "sampleAwal = splitData[0].sample(100)\n",
    "sampleAkhir = splitData[1].sample(100)\n",
    "print(\"Enam langkah testing:\")\n",
    "print(\"1. Tentukan hipotesis nol atau H0\")\n",
    "print(\"   H0: μ1-μ2 = 0\")\n",
    "print(\"2. Tentukan hipotesis alternatif atau H1\")\n",
    "print(\"   H1: μ1-μ2 != 0\")\n",
    "print(\"3. Tentukan tingkat signifikan α\")\n",
    "sig = 0.05\n",
    "print(\"   α = \", sig)\n",
    "print(\"4. Tentukan uji statistik yang sesuai dan tentukan daerah kritis\")\n",
    "daerahKritis = stats.norm.ppf(1-(sig/2))\n",
    "print(\"   Digunakan uji statistik z-test\")\n",
    "print(\"   Daerah kritis = \", daerahKritis)\n",
    "print(\"5. Hitung uji nilai statistik dari data sample\")\n",
    "meanAwal = sampleAwal[\"Daerah\"].mean()\n",
    "meanAkhir = sampleAkhir[\"Daerah\"].mean()\n",
    "stdAwal = sampleAwal[\"Daerah\"].std()\n",
    "stdAkhir = sampleAkhir[\"Daerah\"].std()\n",
    "ztest = (meanAwal-meanAkhir)/math.sqrt(((stdAwal**2)/100)+((stdAkhir**2)/100))\n",
    "print(\"   Nilai uji statistik (z) = \", ztest)\n",
    "pval = stats.norm.sf(abs(ztest))*2\n",
    "print(\"   Nilai p = \", pval)\n",
    "print(\"6. Ambil keputusan apakah H0 ditolak atau tidak\")\n",
    "if (ztest > daerahKritis or ztest < -daerahKritis):\n",
    "    print(\"   H0 ditolak karena nilai ztest berada di daerah kritis\")\n",
    "else:\n",
    "    print(\"   H0 diterima karean nilai ztest berada di luar daerah kritis\")\n",
    "if (sig < pval):\n",
    "    print(\"   H0 diterima karena nilai p lebih besar dari nilai signifikan\")\n",
    "else:\n",
    "    print(\"   H0 ditolak karena nilai p lebih kecil dari nilai signifikan\")"
   ]
  },
  {
   "cell_type": "code",
   "execution_count": 122,
   "metadata": {},
   "outputs": [
    {
     "name": "stdout",
     "output_type": "stream",
     "text": [
      "Enam langkah testing:\n",
      "1. Tentukan hipotesis nol atau H0\n",
      "   H0: μ1-μ2 = 0.2\n",
      "2. Tentukan hipotesis alternatif atau H1\n",
      "   H1: μ1-μ2 != 0.2\n",
      "3. Tentukan tingkat signifikan α\n",
      "   α =  0.05\n",
      "4. Tentukan uji statistik yang sesuai dan tentukan daerah kritis\n",
      "   Digunakan uji statistik z-test\n",
      "   Daerah kritis =  1.959963984540054\n",
      "5. Hitung uji nilai statistik dari data sample\n",
      "   Nilai uji statistik (z) =  -14.9006499869615\n",
      "   Nilai p =  3.2638881123352254e-50\n",
      "6. Ambil keputusan apakah H0 ditolak atau tidak\n",
      "   H0 ditolak karena nilai ztest berada di daerah kritis\n",
      "   H0 ditolak karena nilai p lebih kecil dari nilai signifikan\n"
     ]
    }
   ],
   "source": [
    "splitData = np.array_split(df,2)\n",
    "sampleAwal = splitData[0].sample(100)\n",
    "sampleAkhir = splitData[1].sample(100)\n",
    "print(\"Enam langkah testing:\")\n",
    "print(\"1. Tentukan hipotesis nol atau H0\")\n",
    "print(\"   H0: μ1-μ2 = 0.2\")\n",
    "print(\"2. Tentukan hipotesis alternatif atau H1\")\n",
    "print(\"   H1: μ1-μ2 != 0.2\")\n",
    "print(\"3. Tentukan tingkat signifikan α\")\n",
    "sig = 0.05\n",
    "print(\"   α = \", sig)\n",
    "print(\"4. Tentukan uji statistik yang sesuai dan tentukan daerah kritis\")\n",
    "daerahKritis = stats.norm.ppf(1-(sig/2))\n",
    "print(\"   Digunakan uji statistik z-test\")\n",
    "print(\"   Daerah kritis = \", daerahKritis)\n",
    "print(\"5. Hitung uji nilai statistik dari data sample\")\n",
    "meanAwal = sampleAwal[\"KadarAir\"].mean()\n",
    "meanAkhir = sampleAkhir[\"KadarAir\"].mean()\n",
    "stdAwal = sampleAwal[\"KadarAir\"].std()\n",
    "stdAkhir = sampleAkhir[\"KadarAir\"].std()\n",
    "ztest = (meanAwal-meanAkhir)-0.2/math.sqrt(((stdAwal**2)/100)+((stdAkhir**2)/100))\n",
    "print(\"   Nilai uji statistik (z) = \", ztest)\n",
    "pval = stats.norm.sf(abs(ztest))*2\n",
    "print(\"   Nilai p = \", pval)\n",
    "print(\"6. Ambil keputusan apakah H0 ditolak atau tidak\")\n",
    "if (ztest > daerahKritis or ztest < -daerahKritis):\n",
    "    print(\"   H0 ditolak karena nilai ztest berada di daerah kritis\")\n",
    "else:\n",
    "    print(\"   H0 diterima karean nilai ztest berada di luar daerah kritis\")\n",
    "if (sig < pval):\n",
    "    print(\"   H0 diterima karena nilai p lebih besar dari nilai signifikan\")\n",
    "else:\n",
    "    print(\"   H0 ditolak karena nilai p lebih kecil dari nilai signifikan\")"
   ]
  },
  {
   "cell_type": "code",
   "execution_count": 118,
   "metadata": {},
   "outputs": [
    {
     "name": "stdout",
     "output_type": "stream",
     "text": [
      "Enam langkah testing:\n",
      "1. Tentukan hipotesis nol atau H0\n",
      "   H0: μ1-μ2 = 0\n",
      "2. Tentukan hipotesis alternatif atau H1\n",
      "   H1: μ1-μ2 != 0\n",
      "3. Tentukan tingkat signifikan α\n",
      "   α =  0.05\n",
      "4. Tentukan uji statistik yang sesuai dan tentukan daerah kritis\n",
      "   Digunakan uji statistik z-test\n",
      "   Daerah kritis =  1.959963984540054\n",
      "5. Hitung uji nilai statistik dari data sample\n",
      "   Nilai uji statistik (z) =  -6.3326734011283\n",
      "   Nilai p =  2.4094925038355067e-10\n",
      "6. Ambil keputusan apakah H0 ditolak atau tidak\n",
      "   H0 ditolak karena nilai ztest berada di daerah kritis\n",
      "   H0 ditolak karena nilai p lebih kecil dari nilai signifikan\n"
     ]
    }
   ],
   "source": [
    "dataAwal = df.head(20)\n",
    "dataAkhir = df.tail(20)\n",
    "sampleAwal = dataAwal.sample(15)\n",
    "sampleAkhir = dataAkhir.sample(15)\n",
    "print(\"Enam langkah testing:\")\n",
    "print(\"1. Tentukan hipotesis nol atau H0\")\n",
    "print(\"   H0: μ1-μ2 = 0\")\n",
    "print(\"2. Tentukan hipotesis alternatif atau H1\")\n",
    "print(\"   H1: μ1-μ2 != 0\")\n",
    "print(\"3. Tentukan tingkat signifikan α\")\n",
    "sig = 0.05\n",
    "print(\"   α = \", sig)\n",
    "print(\"4. Tentukan uji statistik yang sesuai dan tentukan daerah kritis\")\n",
    "daerahKritis = stats.norm.ppf(1-(sig/2))\n",
    "print(\"   Digunakan uji statistik z-test\")\n",
    "print(\"   Daerah kritis = \", daerahKritis)\n",
    "print(\"5. Hitung uji nilai statistik dari data sample\")\n",
    "meanAwal = sampleAwal[\"Bulatan\"].mean()\n",
    "meanAkhir = sampleAkhir[\"Bulatan\"].mean()\n",
    "stdAwal = sampleAwal[\"Bulatan\"].std()\n",
    "stdAkhir = sampleAkhir[\"Bulatan\"].std()\n",
    "ztest = (meanAwal-meanAkhir)/math.sqrt(((stdAwal**2)/100)+((stdAkhir**2)/100))\n",
    "print(\"   Nilai uji statistik (z) = \", ztest)\n",
    "pval = stats.norm.sf(abs(ztest))*2\n",
    "print(\"   Nilai p = \", pval)\n",
    "print(\"6. Ambil keputusan apakah H0 ditolak atau tidak\")\n",
    "if (ztest > daerahKritis or ztest < -daerahKritis):\n",
    "    print(\"   H0 ditolak karena nilai ztest berada di daerah kritis\")\n",
    "else:\n",
    "    print(\"   H0 diterima karean nilai ztest berada di luar daerah kritis\")\n",
    "if (sig < pval):\n",
    "    print(\"   H0 diterima karena nilai p lebih besar dari nilai signifikan\")\n",
    "else:\n",
    "    print(\"   H0 ditolak karena nilai p lebih kecil dari nilai signifikan\")"
   ]
  },
  {
   "cell_type": "code",
   "execution_count": 135,
   "metadata": {},
   "outputs": [
    {
     "name": "stdout",
     "output_type": "stream",
     "text": [
      "Enam langkah testing:\n",
      "1. Tentukan hipotesis nol atau H0\n",
      "   H0: p1 = p2\n",
      "2. Tentukan hipotesis alternatif atau H1\n",
      "   H1: p1 > p2\n",
      "3. Tentukan tingkat signifikan α\n",
      "   α =  0.05\n",
      "4. Tentukan uji statistik yang sesuai dan tentukan daerah kritis\n",
      "   Digunakan uji statistik z-test\n",
      "   Daerah kritis =  1.6448536269514722\n",
      "5. Hitung uji nilai statistik dari data sample\n",
      "   Nilai uji statistik (z) =  8.393160374127897\n",
      "   Nilai p =  2.3662267831159997e-17\n",
      "6. Ambil keputusan apakah H0 ditolak atau tidak\n",
      "   H0 ditolak karena nilai ztest berada di daerah kritis\n",
      "   H0 ditolak karena nilai p lebih kecil dari nilai signifikan\n"
     ]
    }
   ],
   "source": [
    "splitData = np.array_split(df,2)\n",
    "sampleAwal = splitData[0].sample(100)\n",
    "sampleAkhir = splitData[1].sample(100)\n",
    "countAwal = 0\n",
    "for i in sampleAwal[\"Ransum\"]:\n",
    "    if (i > 2):\n",
    "        countAwal += 1\n",
    "countAkhir = 0\n",
    "for i in sampleAkhir[\"Ransum\"]:\n",
    "    if (i > 2):\n",
    "        countAkhir += 1\n",
    "p1 = countAwal/100\n",
    "p2 = countAkhir/100\n",
    "print(\"Enam langkah testing:\")\n",
    "print(\"1. Tentukan hipotesis nol atau H0\")\n",
    "print(\"   H0: p1 = p2\")\n",
    "print(\"2. Tentukan hipotesis alternatif atau H1\")\n",
    "print(\"   H1: p1 > p2\")\n",
    "print(\"3. Tentukan tingkat signifikan α\")\n",
    "sig = 0.05\n",
    "print(\"   α = \", sig)\n",
    "print(\"4. Tentukan uji statistik yang sesuai dan tentukan daerah kritis\")\n",
    "daerahKritis = stats.norm.ppf(1-sig)\n",
    "print(\"   Digunakan uji statistik z-test\")\n",
    "print(\"   Daerah kritis = \", daerahKritis)\n",
    "print(\"5. Hitung uji nilai statistik dari data sample\")\n",
    "p = (countAwal+countAkhir)/200\n",
    "ztest = (p1-p2)/math.sqrt((p*(1-p))*(1/100+1/100))\n",
    "print(\"   Nilai uji statistik (z) = \", ztest)\n",
    "pval = stats.norm.sf(abs(ztest))\n",
    "print(\"   Nilai p = \", pval)\n",
    "print(\"6. Ambil keputusan apakah H0 ditolak atau tidak\")\n",
    "if (ztest > daerahKritis):\n",
    "    print(\"   H0 ditolak karena nilai ztest berada di daerah kritis\")\n",
    "else:\n",
    "    print(\"   H0 diterima karean nilai ztest berada di luar daerah kritis\")\n",
    "if (sig < pval):\n",
    "    print(\"   H0 diterima karena nilai p lebih besar dari nilai signifikan\")\n",
    "else:\n",
    "    print(\"   H0 ditolak karena nilai p lebih kecil dari nilai signifikan\")"
   ]
  },
  {
   "cell_type": "code",
   "execution_count": 134,
   "metadata": {},
   "outputs": [
    {
     "name": "stdout",
     "output_type": "stream",
     "text": [
      "Enam langkah testing:\n",
      "1. Tentukan hipotesis nol atau H0\n",
      "   H0: σ1^2 = σ2^2\n",
      "2. Tentukan hipotesis alternatif atau H1\n",
      "   H1: σ1^2 != σ2^2\n",
      "3. Tentukan tingkat signifikan α\n",
      "   α =  0.05\n",
      "4. Tentukan uji statistik yang sesuai dan tentukan daerah kritis\n",
      "   Digunakan uji statistik z-test\n",
      "   Daerah kritis 1 =  1.4862337676192938\n",
      "   Daerah kritis 2 =  0.3271583368733182\n",
      "5. Hitung uji nilai statistik dari data sample\n",
      "   Nilai uji statistik (f) =  1.05699930599614\n",
      "   Nilai p =  0.6083679363866372\n",
      "6. Ambil keputusan apakah H0 ditolak atau tidak\n",
      "   H0 diterima karean nilai ztest berada di luar daerah kritis\n",
      "   H0 diterima karena nilai p lebih besar dari nilai signifikan\n"
     ]
    }
   ],
   "source": [
    "splitData = np.array_split(df,2)\n",
    "sampleAwal = splitData[0].sample(100)\n",
    "sampleAkhir = splitData[1].sample(100)\n",
    "print(\"Enam langkah testing:\")\n",
    "print(\"1. Tentukan hipotesis nol atau H0\")\n",
    "print(\"   H0: σ1^2 = σ2^2\")\n",
    "print(\"2. Tentukan hipotesis alternatif atau H1\")\n",
    "print(\"   H1: σ1^2 != σ2^2\")\n",
    "print(\"3. Tentukan tingkat signifikan α\")\n",
    "sig = 0.05\n",
    "print(\"   α = \", sig)\n",
    "print(\"4. Tentukan uji statistik yang sesuai dan tentukan daerah kritis\")\n",
    "daerahKritis1 = stats.f.ppf(1-sig/2,99,99)\n",
    "daerahKritis2 = 1-stats.f.ppf(sig/2,99,99)\n",
    "print(\"   Digunakan uji statistik z-test\")\n",
    "print(\"   Daerah kritis 1 = \", daerahKritis1)\n",
    "print(\"   Daerah kritis 2 = \", daerahKritis2)\n",
    "print(\"5. Hitung uji nilai statistik dari data sample\")\n",
    "var1 = sampleAwal[\"Diameter\"].std()**2\n",
    "var2 = sampleAkhir[\"Diameter\"].std()**2\n",
    "ftest = var1/var2\n",
    "print(\"   Nilai uji statistik (f) = \", ftest)\n",
    "pval = stats.f.cdf(ftest,99,99)\n",
    "print(\"   Nilai p = \", pval)\n",
    "print(\"6. Ambil keputusan apakah H0 ditolak atau tidak\")\n",
    "if (ftest < daerahKritis2 or ftest > daerahKritis1):\n",
    "    print(\"   H0 ditolak karena nilai ztest berada di daerah kritis\")\n",
    "else:\n",
    "    print(\"   H0 diterima karean nilai ztest berada di luar daerah kritis\")\n",
    "if (sig < pval):\n",
    "    print(\"   H0 diterima karena nilai p lebih besar dari nilai signifikan\")\n",
    "else:\n",
    "    print(\"   H0 ditolak karena nilai p lebih kecil dari nilai signifikan\")"
   ]
  },
  {
   "cell_type": "code",
   "execution_count": null,
   "metadata": {},
   "outputs": [],
   "source": []
  }
 ],
 "metadata": {
  "kernelspec": {
   "display_name": "Python 3",
   "language": "python",
   "name": "python3"
  },
  "language_info": {
   "codemirror_mode": {
    "name": "ipython",
    "version": 3
   },
   "file_extension": ".py",
   "mimetype": "text/x-python",
   "name": "python",
   "nbconvert_exporter": "python",
   "pygments_lexer": "ipython3",
   "version": "3.8.3"
  }
 },
 "nbformat": 4,
 "nbformat_minor": 4
}
