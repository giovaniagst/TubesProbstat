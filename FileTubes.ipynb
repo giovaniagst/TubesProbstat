{
 "cells": [
  {
   "cell_type": "code",
   "execution_count": 3,
   "metadata": {},
   "outputs": [],
   "source": [
    "import pandas as pd\n",
    "import matplotlib.pyplot as plt\n",
    "import seaborn as sns\n",
    "import numpy as np\n",
    "import math\n",
    "from scipy.stats import normaltest\n",
    "from scipy.stats import ttest_1samp\n",
    "from scipy import stats\n",
    "from scipy.stats import norm\n",
    "from statsmodels.stats import weightstats as stests\n",
    "from statsmodels.stats.proportion import proportions_ztest\n",
    "\n",
    "df = pd.read_csv(\"Gandum.csv\", names=[\"id\", \"Daerah\", \"SumbuUtama\", \"SumbuKecil\", \"Keunikan\", \"AreaBulatan\", \"Diameter\", \"KadarAir\", \"Keliling\", \"Bulatan\", \"Ransum\", \"Kelas\"])"
   ]
  },
  {
   "cell_type": "code",
   "execution_count": 14,
   "metadata": {},
   "outputs": [
    {
     "name": "stdout",
     "output_type": "stream",
     "text": [
      "SOAL 1\n",
      "\n",
      "--------- DAERAH ---------\n",
      "Rata-rata: 4801.246\n",
      "Median: 4735.0\n",
      "Modus:\n",
      "0    3992\n",
      "1    4881\n",
      "2    5642\n",
      "3    6083\n",
      "dtype: int64\n",
      "Standar deviasi: 986.3954914816017\n",
      "Variansi: 972976.0656152305\n",
      "Range: 4931\n",
      "Nilai minimum: 2522\n",
      "Nilai maksimum: 7453\n",
      "Kuartil:\n",
      "0.00    2522.00\n",
      "0.25    4042.75\n",
      "0.50    4735.00\n",
      "0.75    5495.50\n",
      "1.00    7453.00\n",
      "Name: Daerah, dtype: float64\n",
      "IQR: 1452.75\n",
      "Skewness: 0.23814408738280812\n",
      "Kurtosis: -0.4346305340273977\n",
      "\n",
      "--------- SUMBU UTAMA ---------\n",
      "Rata-rata: 116.04517136778\n",
      "Median: 115.40513995\n",
      "Modus: Data unik sehingga tidak ada modus\n",
      "Standar deviasi: 18.28262595755935\n",
      "Variansi: 334.25441190402296\n",
      "Range: 153.79546865999998\n",
      "Nilai minimum: 74.13311404\n",
      "Nilai maksimum: 227.9285827\n",
      "Kuartil:\n",
      "0.00     74.133114\n",
      "0.25    104.116098\n",
      "0.50    115.405140\n",
      "0.75    129.046792\n",
      "1.00    227.928583\n",
      "Name: SumbuUtama, dtype: float64\n",
      "IQR: 24.930693849999997\n",
      "Skewness: 0.7615287378076652\n",
      "Kurtosis: 4.33053354843697\n",
      "\n",
      "--------- SUMBU KECIL ---------\n",
      "Rata-rata: 53.71524598896\n",
      "Median: 53.731198774999996\n",
      "Modus: Data unik sehingga tidak ada modus\n",
      "Standar deviasi: 4.0710747524750355\n",
      "Variansi: 16.57364964023967\n",
      "Range: 29.071182429999993\n",
      "Nilai minimum: 39.90651744\n",
      "Nilai maksimum: 68.97769987\n",
      "Kuartil:\n",
      "0.00    39.906517\n",
      "0.25    51.193576\n",
      "0.50    53.731199\n",
      "0.75    56.325158\n",
      "1.00    68.977700\n",
      "Name: SumbuKecil, dtype: float64\n",
      "IQR: 5.131581650000001\n",
      "Skewness: -0.010828051555611359\n",
      "Kurtosis: 0.475568450438137\n",
      "\n",
      "--------- KEUNIKAN ---------\n",
      "Rata-rata: 0.8787639143399999\n",
      "Median: 0.8900454185\n",
      "Modus: Data unik sehingga tidak ada modus\n",
      "Standar deviasi: 0.036585905504777014\n",
      "Variansi: 0.0013385284816044732\n",
      "Range: 0.19408517999999997\n",
      "Nilai minimum: 0.719916226\n",
      "Nilai maksimum: 0.914001406\n",
      "Kuartil:\n",
      "0.00    0.719916\n",
      "0.25    0.863676\n",
      "0.50    0.890045\n",
      "0.75    0.907578\n",
      "1.00    0.914001\n",
      "Name: Keunikan, dtype: float64\n",
      "IQR: 0.04390216425000004\n",
      "Skewness: -1.6234718222806501\n",
      "Kurtosis: 2.917255925694391\n",
      "\n",
      "--------- AREA BULATAN ---------\n",
      "Rata-rata: 4937.048\n",
      "Median: 4857.0\n",
      "Modus:\n",
      "0    3802\n",
      "1    4913\n",
      "dtype: int64\n",
      "Standar deviasi: 1011.6962549701573\n",
      "Variansi: 1023529.3123206414\n",
      "Range: 5141\n",
      "Nilai minimum: 2579\n",
      "Nilai maksimum: 7720\n",
      "Kuartil:\n",
      "0.00    2579.00\n",
      "0.25    4170.25\n",
      "0.50    4857.00\n",
      "0.75    5654.25\n",
      "1.00    7720.00\n",
      "Name: AreaBulatan, dtype: float64\n",
      "IQR: 1484.0\n",
      "Skewness: 0.2575600053152032\n",
      "Kurtosis: -0.40968492037366033\n",
      "\n",
      "--------- DIAMETER ---------\n",
      "Rata-rata: 77.77115780832001\n",
      "Median: 77.64527658\n",
      "Modus:\n",
      "0    71.293564\n",
      "1    78.833256\n",
      "2    84.756224\n",
      "3    88.006342\n",
      "dtype: float64\n",
      "Standar deviasi: 8.056867291849713\n",
      "Variansi: 64.91311055847774\n",
      "Range: 40.747172240000005\n",
      "Nilai minimum: 56.66665803\n",
      "Nilai maksimum: 97.41383027\n",
      "Kuartil:\n",
      "0.00    56.666658\n",
      "0.25    71.745308\n",
      "0.50    77.645277\n",
      "0.75    83.648598\n",
      "1.00    97.413830\n",
      "Name: Diameter, dtype: float64\n",
      "IQR: 11.90329002\n",
      "Skewness: 0.002724966865193717\n",
      "Kurtosis: -0.46645451303121455\n",
      "\n",
      "--------- KADAR AIR ---------\n",
      "Rata-rata: 0.6483716718979999\n",
      "Median: 0.626116699\n",
      "Modus:\n",
      "0    0.735849\n",
      "1    0.824405\n",
      "dtype: float64\n",
      "Standar deviasi: 0.09436709809379533\n",
      "Variansi: 0.00890514920264399\n",
      "Range: 0.46897193099999995\n",
      "Nilai minimum: 0.409927152\n",
      "Nilai maksimum: 0.878899083\n",
      "Kuartil:\n",
      "0.00    0.409927\n",
      "0.25    0.572632\n",
      "0.50    0.626117\n",
      "0.75    0.726633\n",
      "1.00    0.878899\n",
      "Name: KadarAir, dtype: float64\n",
      "IQR: 0.15400088724999994\n",
      "Skewness: 0.49366131797330265\n",
      "Kurtosis: -0.7403261705867821\n",
      "\n",
      "--------- KELILING ---------\n",
      "Rata-rata: 281.4797219999999\n",
      "Median: 280.0455\n",
      "Modus: Data unik sehingga tidak ada modus\n",
      "Standar deviasi: 37.33540171514401\n",
      "Variansi: 1393.9322212311781\n",
      "Range: 291.822\n",
      "Nilai minimum: 197.015\n",
      "Nilai maksimum: 488.837\n",
      "Kuartil:\n",
      "0.00    197.0150\n",
      "0.25    255.8830\n",
      "0.50    280.0455\n",
      "0.75    306.0625\n",
      "1.00    488.8370\n",
      "Name: Keliling, dtype: float64\n",
      "IQR: 50.17949999999999\n",
      "Skewness: 0.7336269072005543\n",
      "Kurtosis: 2.272684731245573\n",
      "\n",
      "--------- BULATAN ---------\n",
      "Rata-rata: 0.7617374363080001\n",
      "Median: 0.7612884394999999\n",
      "Modus: Data unik sehingga tidak ada modus\n",
      "Standar deviasi: 0.06170246078673261\n",
      "Variansi: 0.0038071936671382756\n",
      "Range: 0.730158135\n",
      "Nilai minimum: 0.174590178\n",
      "Nilai maksimum: 0.904748313\n",
      "Kuartil:\n",
      "0.00    0.174590\n",
      "0.25    0.731991\n",
      "0.50    0.761288\n",
      "0.75    0.796361\n",
      "1.00    0.904748\n",
      "Name: Bulatan, dtype: float64\n",
      "IQR: 0.06437024175000006\n",
      "Skewness: -3.599236766361642\n",
      "Kurtosis: 29.975095904630063\n",
      "\n",
      "--------- RANSUM ---------\n",
      "Rata-rata: 2.150915331084\n",
      "Median: 2.1935990365\n",
      "Modus: Data unik sehingga tidak ada modus\n",
      "Standar deviasi: 0.2497668892706582\n",
      "Variansi: 0.06238349897594124\n",
      "Range: 1.0240129660000001\n",
      "Nilai minimum: 1.440795615\n",
      "Nilai maksimum: 2.464808581\n",
      "Kuartil:\n",
      "0.00    1.440796\n",
      "0.25    1.983939\n",
      "0.50    2.193599\n",
      "0.75    2.381612\n",
      "1.00    2.464809\n",
      "Name: Ransum, dtype: float64\n",
      "IQR: 0.3976734275\n",
      "Skewness: -0.6581880925333655\n",
      "Kurtosis: -0.4286557930626147\n"
     ]
    }
   ],
   "source": [
    "print(\"SOAL 1\\n\")\n",
    "\n",
    "print(\"--------- DAERAH ---------\")\n",
    "print(\"Rata-rata:\",df[\"Daerah\"].mean())\n",
    "print(\"Median:\",df[\"Daerah\"].median())\n",
    "print(\"Modus:\")\n",
    "print(df[\"Daerah\"].mode())\n",
    "print(\"Standar deviasi:\",df[\"Daerah\"].std())\n",
    "print(\"Variansi:\",df[\"Daerah\"].var())\n",
    "range = df[\"Daerah\"].max()-df[\"Daerah\"].min()\n",
    "print(\"Range:\",range)\n",
    "print(\"Nilai minimum:\",df[\"Daerah\"].min())\n",
    "print(\"Nilai maksimum:\",df[\"Daerah\"].max())\n",
    "print(\"Kuartil:\")\n",
    "print(df[\"Daerah\"].quantile([0,0.25,0.50,0.75,1]))\n",
    "Q1 = df[\"Daerah\"].quantile(0.25)\n",
    "Q3 = df[\"Daerah\"].quantile(0.75)\n",
    "IQR = Q3-Q1\n",
    "print(\"IQR:\",IQR)\n",
    "print(\"Skewness:\",df[\"Daerah\"].skew())\n",
    "print(\"Kurtosis:\",df[\"Daerah\"].kurt())\n",
    "print()\n",
    "\n",
    "print(\"--------- SUMBU UTAMA ---------\")\n",
    "print(\"Rata-rata:\",df[\"SumbuUtama\"].mean())\n",
    "print(\"Median:\",df[\"SumbuUtama\"].median())\n",
    "print(\"Modus:\",\"Data unik sehingga tidak ada modus\")\n",
    "print(\"Standar deviasi:\",df[\"SumbuUtama\"].std())\n",
    "print(\"Variansi:\",df[\"SumbuUtama\"].var())\n",
    "range = df[\"SumbuUtama\"].max()-df[\"SumbuUtama\"].min()\n",
    "print(\"Range:\",range)\n",
    "print(\"Nilai minimum:\",df[\"SumbuUtama\"].min())\n",
    "print(\"Nilai maksimum:\",df[\"SumbuUtama\"].max())\n",
    "print(\"Kuartil:\")\n",
    "print(df[\"SumbuUtama\"].quantile([0,0.25,0.50,0.75,1]))\n",
    "Q1 = df[\"SumbuUtama\"].quantile(0.25)\n",
    "Q3 = df[\"SumbuUtama\"].quantile(0.75)\n",
    "IQR = Q3-Q1\n",
    "print(\"IQR:\",IQR)\n",
    "print(\"Skewness:\",df[\"SumbuUtama\"].skew())\n",
    "print(\"Kurtosis:\",df[\"SumbuUtama\"].kurt())\n",
    "print()\n",
    "\n",
    "print(\"--------- SUMBU KECIL ---------\")\n",
    "print(\"Rata-rata:\",df[\"SumbuKecil\"].mean())\n",
    "print(\"Median:\",df[\"SumbuKecil\"].median())\n",
    "print(\"Modus:\",\"Data unik sehingga tidak ada modus\")\n",
    "print(\"Standar deviasi:\",df[\"SumbuKecil\"].std())\n",
    "print(\"Variansi:\",df[\"SumbuKecil\"].var())\n",
    "range = df[\"SumbuKecil\"].max()-df[\"SumbuKecil\"].min()\n",
    "print(\"Range:\",range)\n",
    "print(\"Nilai minimum:\",df[\"SumbuKecil\"].min())\n",
    "print(\"Nilai maksimum:\",df[\"SumbuKecil\"].max())\n",
    "print(\"Kuartil:\")\n",
    "print(df[\"SumbuKecil\"].quantile([0,0.25,0.50,0.75,1]))\n",
    "Q1 = df[\"SumbuKecil\"].quantile(0.25)\n",
    "Q3 = df[\"SumbuKecil\"].quantile(0.75)\n",
    "IQR = Q3-Q1\n",
    "print(\"IQR:\",IQR)\n",
    "print(\"Skewness:\",df[\"SumbuKecil\"].skew())\n",
    "print(\"Kurtosis:\",df[\"SumbuKecil\"].kurt())\n",
    "print()\n",
    "\n",
    "print(\"--------- KEUNIKAN ---------\")\n",
    "print(\"Rata-rata:\",df[\"Keunikan\"].mean())\n",
    "print(\"Median:\",df[\"Keunikan\"].median())\n",
    "print(\"Modus:\",\"Data unik sehingga tidak ada modus\")\n",
    "print(\"Standar deviasi:\",df[\"Keunikan\"].std())\n",
    "print(\"Variansi:\",df[\"Keunikan\"].var())\n",
    "range = df[\"Keunikan\"].max()-df[\"Keunikan\"].min()\n",
    "print(\"Range:\",range)\n",
    "print(\"Nilai minimum:\",df[\"Keunikan\"].min())\n",
    "print(\"Nilai maksimum:\",df[\"Keunikan\"].max())\n",
    "print(\"Kuartil:\")\n",
    "print(df[\"Keunikan\"].quantile([0,0.25,0.50,0.75,1]))\n",
    "Q1 = df[\"Keunikan\"].quantile(0.25)\n",
    "Q3 = df[\"Keunikan\"].quantile(0.75)\n",
    "IQR = Q3-Q1\n",
    "print(\"IQR:\",IQR)\n",
    "print(\"Skewness:\",df[\"Keunikan\"].skew())\n",
    "print(\"Kurtosis:\",df[\"Keunikan\"].kurt())\n",
    "print()\n",
    "\n",
    "print(\"--------- AREA BULATAN ---------\")\n",
    "print(\"Rata-rata:\",df[\"AreaBulatan\"].mean())\n",
    "print(\"Median:\",df[\"AreaBulatan\"].median())\n",
    "print(\"Modus:\")\n",
    "print(df[\"AreaBulatan\"].mode())\n",
    "print(\"Standar deviasi:\",df[\"AreaBulatan\"].std())\n",
    "print(\"Variansi:\",df[\"AreaBulatan\"].var())\n",
    "range = df[\"AreaBulatan\"].max()-df[\"AreaBulatan\"].min()\n",
    "print(\"Range:\",range)\n",
    "print(\"Nilai minimum:\",df[\"AreaBulatan\"].min())\n",
    "print(\"Nilai maksimum:\",df[\"AreaBulatan\"].max())\n",
    "print(\"Kuartil:\")\n",
    "print(df[\"AreaBulatan\"].quantile([0,0.25,0.50,0.75,1]))\n",
    "Q1 = df[\"AreaBulatan\"].quantile(0.25)\n",
    "Q3 = df[\"AreaBulatan\"].quantile(0.75)\n",
    "IQR = Q3-Q1\n",
    "print(\"IQR:\",IQR)\n",
    "print(\"Skewness:\",df[\"AreaBulatan\"].skew())\n",
    "print(\"Kurtosis:\",df[\"AreaBulatan\"].kurt())\n",
    "print()\n",
    "\n",
    "print(\"--------- DIAMETER ---------\")\n",
    "print(\"Rata-rata:\",df[\"Diameter\"].mean())\n",
    "print(\"Median:\",df[\"Diameter\"].median())\n",
    "print(\"Modus:\")\n",
    "print(df[\"Diameter\"].mode())\n",
    "print(\"Standar deviasi:\",df[\"Diameter\"].std())\n",
    "print(\"Variansi:\",df[\"Diameter\"].var())\n",
    "range = df[\"Diameter\"].max()-df[\"Diameter\"].min()\n",
    "print(\"Range:\",range)\n",
    "print(\"Nilai minimum:\",df[\"Diameter\"].min())\n",
    "print(\"Nilai maksimum:\",df[\"Diameter\"].max())\n",
    "print(\"Kuartil:\")\n",
    "print(df[\"Diameter\"].quantile([0,0.25,0.50,0.75,1]))\n",
    "Q1 = df[\"Diameter\"].quantile(0.25)\n",
    "Q3 = df[\"Diameter\"].quantile(0.75)\n",
    "IQR = Q3-Q1\n",
    "print(\"IQR:\",IQR)\n",
    "print(\"Skewness:\",df[\"Diameter\"].skew())\n",
    "print(\"Kurtosis:\",df[\"Diameter\"].kurt())\n",
    "print()\n",
    "\n",
    "print(\"--------- KADAR AIR ---------\")\n",
    "print(\"Rata-rata:\",df[\"KadarAir\"].mean())\n",
    "print(\"Median:\",df[\"KadarAir\"].median())\n",
    "print(\"Modus:\")\n",
    "print(df[\"KadarAir\"].mode())\n",
    "print(\"Standar deviasi:\",df[\"KadarAir\"].std())\n",
    "print(\"Variansi:\",df[\"KadarAir\"].var())\n",
    "range = df[\"KadarAir\"].max()-df[\"KadarAir\"].min()\n",
    "print(\"Range:\",range)\n",
    "print(\"Nilai minimum:\",df[\"KadarAir\"].min())\n",
    "print(\"Nilai maksimum:\",df[\"KadarAir\"].max())\n",
    "print(\"Kuartil:\")\n",
    "print(df[\"KadarAir\"].quantile([0,0.25,0.50,0.75,1]))\n",
    "Q1 = df[\"KadarAir\"].quantile(0.25)\n",
    "Q3 = df[\"KadarAir\"].quantile(0.75)\n",
    "IQR = Q3-Q1\n",
    "print(\"IQR:\",IQR)\n",
    "print(\"Skewness:\",df[\"KadarAir\"].skew())\n",
    "print(\"Kurtosis:\",df[\"KadarAir\"].kurt())\n",
    "print()\n",
    "\n",
    "print(\"--------- KELILING ---------\")\n",
    "print(\"Rata-rata:\",df[\"Keliling\"].mean())\n",
    "print(\"Median:\",df[\"Keliling\"].median())\n",
    "print(\"Modus:\",\"Data unik sehingga tidak ada modus\")\n",
    "print(\"Standar deviasi:\",df[\"Keliling\"].std())\n",
    "print(\"Variansi:\",df[\"Keliling\"].var())\n",
    "range = df[\"Keliling\"].max()-df[\"Keliling\"].min()\n",
    "print(\"Range:\",range)\n",
    "print(\"Nilai minimum:\",df[\"Keliling\"].min())\n",
    "print(\"Nilai maksimum:\",df[\"Keliling\"].max())\n",
    "print(\"Kuartil:\")\n",
    "print(df[\"Keliling\"].quantile([0,0.25,0.50,0.75,1]))\n",
    "Q1 = df[\"Keliling\"].quantile(0.25)\n",
    "Q3 = df[\"Keliling\"].quantile(0.75)\n",
    "IQR = Q3-Q1\n",
    "print(\"IQR:\",IQR)\n",
    "print(\"Skewness:\",df[\"Keliling\"].skew())\n",
    "print(\"Kurtosis:\",df[\"Keliling\"].kurt())\n",
    "print()\n",
    "\n",
    "print(\"--------- BULATAN ---------\")\n",
    "print(\"Rata-rata:\",df[\"Bulatan\"].mean())\n",
    "print(\"Median:\",df[\"Bulatan\"].median())\n",
    "print(\"Modus:\",\"Data unik sehingga tidak ada modus\")\n",
    "print(\"Standar deviasi:\",df[\"Bulatan\"].std())\n",
    "print(\"Variansi:\",df[\"Bulatan\"].var())\n",
    "range = df[\"Bulatan\"].max()-df[\"Bulatan\"].min()\n",
    "print(\"Range:\",range)\n",
    "print(\"Nilai minimum:\",df[\"Bulatan\"].min())\n",
    "print(\"Nilai maksimum:\",df[\"Bulatan\"].max())\n",
    "print(\"Kuartil:\")\n",
    "print(df[\"Bulatan\"].quantile([0,0.25,0.50,0.75,1]))\n",
    "Q1 = df[\"Bulatan\"].quantile(0.25)\n",
    "Q3 = df[\"Bulatan\"].quantile(0.75)\n",
    "IQR = Q3-Q1\n",
    "print(\"IQR:\",IQR)\n",
    "print(\"Skewness:\",df[\"Bulatan\"].skew())\n",
    "print(\"Kurtosis:\",df[\"Bulatan\"].kurt())\n",
    "print()\n",
    "\n",
    "print(\"--------- RANSUM ---------\")\n",
    "print(\"Rata-rata:\",df[\"Ransum\"].mean())\n",
    "print(\"Median:\",df[\"Ransum\"].median())\n",
    "print(\"Modus:\",\"Data unik sehingga tidak ada modus\")\n",
    "print(\"Standar deviasi:\",df[\"Ransum\"].std())\n",
    "print(\"Variansi:\",df[\"Ransum\"].var())\n",
    "range = df[\"Ransum\"].max()-df[\"Ransum\"].min()\n",
    "print(\"Range:\",range)\n",
    "print(\"Nilai minimum:\",df[\"Ransum\"].min())\n",
    "print(\"Nilai maksimum:\",df[\"Ransum\"].max())\n",
    "print(\"Kuartil:\")\n",
    "print(df[\"Ransum\"].quantile([0,0.25,0.50,0.75,1]))\n",
    "Q1 = df[\"Ransum\"].quantile(0.25)\n",
    "Q3 = df[\"Ransum\"].quantile(0.75)\n",
    "IQR = Q3-Q1\n",
    "print(\"IQR:\",IQR)\n",
    "print(\"Skewness:\",df[\"Ransum\"].skew())\n",
    "print(\"Kurtosis:\",df[\"Ransum\"].kurt())"
   ]
  },
  {
   "cell_type": "code",
   "execution_count": 15,
   "metadata": {},
   "outputs": [
    {
     "name": "stdout",
     "output_type": "stream",
     "text": [
      "SOAL 2: Boxplot Daerah\n"
     ]
    },
    {
     "data": {
      "image/png": "[encoded data removed]",
      "text/plain": [
       "<Figure size 432x288 with 1 Axes>"
      ]
     },
     "metadata": {
      "needs_background": "light"
     },
     "output_type": "display_data"
    }
   ],
   "source": [
    "print(\"SOAL 2: Boxplot Daerah\")\n",
    "%matplotlib inline\n",
    "boxplot = df.boxplot(column=[\"Daerah\"])\n",
    "# df[\"Daerah\"].plot.hist(bins=100,figsize=(12,8),rwidth=0.5)"
   ]
  },
  {
   "cell_type": "code",
   "execution_count": 16,
   "metadata": {},
   "outputs": [
    {
     "name": "stdout",
     "output_type": "stream",
     "text": [
      "SOAL 2: Histogram daerah\n"
     ]
    },
    {
     "data": {
      "text/plain": [
       "<AxesSubplot:ylabel='Frequency'>"
      ]
     },
     "execution_count": 16,
     "metadata": {},
     "output_type": "execute_result"
    },
    {
     "data": {
      "image/png": "[encoded data removed]",
      "text/plain": [
       "<Figure size 864x576 with 1 Axes>"
      ]
     },
     "metadata": {
      "needs_background": "light"
     },
     "output_type": "display_data"
    }
   ],
   "source": [
    "print(\"SOAL 2: Histogram Daerah\")\n",
    "df[\"Daerah\"].plot.hist(bins=100,figsize=(12,8),rwidth=0.5)"
   ]
  },
  {
   "cell_type": "code",
   "execution_count": 17,
   "metadata": {},
   "outputs": [
    {
     "name": "stdout",
     "output_type": "stream",
     "text": [
      "SOAL 2: Boxplot Sumbu Utama\n"
     ]
    },
    {
     "data": {
      "image/png": "[encoded data removed]",
      "text/plain": [
       "<Figure size 432x288 with 1 Axes>"
      ]
     },
     "metadata": {
      "needs_background": "light"
     },
     "output_type": "display_data"
    }
   ],
   "source": [
    "print(\"SOAL 2: Boxplot Sumbu Utama\")\n",
    "%matplotlib inline\n",
    "boxplot = df.boxplot(column=[\"SumbuUtama\"])"
   ]
  },
  {
   "cell_type": "code",
   "execution_count": 18,
   "metadata": {},
   "outputs": [
    {
     "name": "stdout",
     "output_type": "stream",
     "text": [
      "SOAL 2: Histogram Sumbu Utama\n"
     ]
    },
    {
     "data": {
      "text/plain": [
       "<AxesSubplot:ylabel='Frequency'>"
      ]
     },
     "execution_count": 18,
     "metadata": {},
     "output_type": "execute_result"
    },
    {
     "data": {
      "image/png": "[encoded data removed]",
      "text/plain": [
       "<Figure size 864x576 with 1 Axes>"
      ]
     },
     "metadata": {
      "needs_background": "light"
     },
     "output_type": "display_data"
    }
   ],
   "source": [
    "print(\"SOAL 2: Histogram Sumbu Utama\")\n",
    "df[\"SumbuUtama\"].plot.hist(bins=100,figsize=(12,8),rwidth=0.5)"
   ]
  },
  {
   "cell_type": "code",
   "execution_count": 19,
   "metadata": {},
   "outputs": [
    {
     "name": "stdout",
     "output_type": "stream",
     "text": [
      "SOAL 2: Boxplot Sumbu Kecil\n"
     ]
    },
    {
     "data": {
      "image/png": "[encoded data removed]",
      "text/plain": [
       "<Figure size 432x288 with 1 Axes>"
      ]
     },
     "metadata": {
      "needs_background": "light"
     },
     "output_type": "display_data"
    }
   ],
   "source": [
    "print(\"SOAL 2: Boxplot Sumbu Kecil\")\n",
    "%matplotlib inline\n",
    "boxplot = df.boxplot(column=[\"SumbuKecil\"])"
   ]
  },
  {
   "cell_type": "code",
   "execution_count": 20,
   "metadata": {},
   "outputs": [
    {
     "name": "stdout",
     "output_type": "stream",
     "text": [
      "SOAL 2: Histogram Sumbu Kecil\n"
     ]
    },
    {
     "data": {
      "text/plain": [
       "<AxesSubplot:ylabel='Frequency'>"
      ]
     },
     "execution_count": 20,
     "metadata": {},
     "output_type": "execute_result"
    },
    {
     "data": {
      "image/png": "[encoded data removed]",
      "text/plain": [
       "<Figure size 864x576 with 1 Axes>"
      ]
     },
     "metadata": {
      "needs_background": "light"
     },
     "output_type": "display_data"
    }
   ],
   "source": [
    "print(\"SOAL 2: Histogram Sumbu Kecil\")\n",
    "df[\"SumbuKecil\"].plot.hist(bins=100,figsize=(12,8),rwidth=0.5)"
   ]
  },
  {
   "cell_type": "code",
   "execution_count": 21,
   "metadata": {},
   "outputs": [
    {
     "name": "stdout",
     "output_type": "stream",
     "text": [
      "SOAL 2: Boxplot Keunikan\n"
     ]
    },
    {
     "data": {
      "image/png": "[encoded data removed]",
      "text/plain": [
       "<Figure size 432x288 with 1 Axes>"
      ]
     },
     "metadata": {
      "needs_background": "light"
     },
     "output_type": "display_data"
    }
   ],
   "source": [
    "print(\"SOAL 2: Boxplot Keunikan\")\n",
    "%matplotlib inline\n",
    "boxplot = df.boxplot(column=[\"Keunikan\"])"
   ]
  },
  {
   "cell_type": "code",
   "execution_count": 22,
   "metadata": {},
   "outputs": [
    {
     "name": "stdout",
     "output_type": "stream",
     "text": [
      "SOAL 2: Histogram Keunikan\n"
     ]
    },
    {
     "data": {
      "text/plain": [
       "<AxesSubplot:ylabel='Frequency'>"
      ]
     },
     "execution_count": 22,
     "metadata": {},
     "output_type": "execute_result"
    },
    {
     "data": {
      "image/png": "[encoded data removed]",
      "text/plain": [
       "<Figure size 864x576 with 1 Axes>"
      ]
     },
     "metadata": {
      "needs_background": "light"
     },
     "output_type": "display_data"
    }
   ],
   "source": [
    "print(\"SOAL 2: Histogram Keunikan\")\n",
    "df[\"Keunikan\"].plot.hist(bins=100,figsize=(12,8),rwidth=0.5)"
   ]
  },
  {
   "cell_type": "code",
   "execution_count": 23,
   "metadata": {},
   "outputs": [
    {
     "name": "stdout",
     "output_type": "stream",
     "text": [
      "SOAL 2: Boxplot Area Bulatan\n"
     ]
    },
    {
     "data": {
      "image/png": "[encoded data removed]",
      "text/plain": [
       "<Figure size 432x288 with 1 Axes>"
      ]
     },
     "metadata": {
      "needs_background": "light"
     },
     "output_type": "display_data"
    }
   ],
   "source": [
    "print(\"SOAL 2: Boxplot Area Bulatan\")\n",
    "%matplotlib inline\n",
    "boxplot = df.boxplot(column=[\"AreaBulatan\"])"
   ]
  },
  {
   "cell_type": "code",
   "execution_count": 24,
   "metadata": {},
   "outputs": [
    {
     "name": "stdout",
     "output_type": "stream",
     "text": [
      "SOAL 2: Histogram Area Bulatan\n"
     ]
    },
    {
     "data": {
      "text/plain": [
       "<AxesSubplot:ylabel='Frequency'>"
      ]
     },
     "execution_count": 24,
     "metadata": {},
     "output_type": "execute_result"
    },
    {
     "data": {
      "image/png": "[encoded data removed]",
      "text/plain": [
       "<Figure size 864x576 with 1 Axes>"
      ]
     },
     "metadata": {
      "needs_background": "light"
     },
     "output_type": "display_data"
    }
   ],
   "source": [
    "print(\"SOAL 2: Histogram Area Bulatan\")\n",
    "df[\"AreaBulatan\"].plot.hist(bins=100,figsize=(12,8),rwidth=0.5)"
   ]
  },
  {
   "cell_type": "code",
   "execution_count": 25,
   "metadata": {},
   "outputs": [
    {
     "name": "stdout",
     "output_type": "stream",
     "text": [
      "SOAL 2: Boxplot Diameter\n"
     ]
    },
    {
     "data": {
      "image/png": "[encoded data removed]",
      "text/plain": [
       "<Figure size 432x288 with 1 Axes>"
      ]
     },
     "metadata": {
      "needs_background": "light"
     },
     "output_type": "display_data"
    }
   ],
   "source": [
    "print(\"SOAL 2: Boxplot Diameter\")\n",
    "%matplotlib inline\n",
    "boxplot = df.boxplot(column=[\"Diameter\"])"
   ]
  },
  {
   "cell_type": "code",
   "execution_count": 26,
   "metadata": {},
   "outputs": [
    {
     "name": "stdout",
     "output_type": "stream",
     "text": [
      "SOAL 2: Histogram Diameter\n"
     ]
    },
    {
     "data": {
      "text/plain": [
       "<AxesSubplot:ylabel='Frequency'>"
      ]
     },
     "execution_count": 26,
     "metadata": {},
     "output_type": "execute_result"
    },
    {
     "data": {
      "image/png": "[encoded data removed]",
      "text/plain": [
       "<Figure size 864x576 with 1 Axes>"
      ]
     },
     "metadata": {
      "needs_background": "light"
     },
     "output_type": "display_data"
    }
   ],
   "source": [
    "print(\"SOAL 2: Histogram Diameter\")\n",
    "df[\"Diameter\"].plot.hist(bins=100,figsize=(12,8),rwidth=0.5)"
   ]
  },
  {
   "cell_type": "code",
   "execution_count": 27,
   "metadata": {},
   "outputs": [
    {
     "name": "stdout",
     "output_type": "stream",
     "text": [
      "SOAL 2: Boxplot Kadar Air\n"
     ]
    },
    {
     "data": {
      "image/png": "[encoded data removed]",
      "text/plain": [
       "<Figure size 432x288 with 1 Axes>"
      ]
     },
     "metadata": {
      "needs_background": "light"
     },
     "output_type": "display_data"
    }
   ],
   "source": [
    "print(\"SOAL 2: Boxplot Kadar Air\")\n",
    "%matplotlib inline\n",
    "boxplot = df.boxplot(column=[\"KadarAir\"])"
   ]
  },
  {
   "cell_type": "code",
   "execution_count": 28,
   "metadata": {},
   "outputs": [
    {
     "name": "stdout",
     "output_type": "stream",
     "text": [
      "SOAL 2: Histogram Kadar Air\n"
     ]
    },
    {
     "data": {
      "text/plain": [
       "<AxesSubplot:ylabel='Frequency'>"
      ]
     },
     "execution_count": 28,
     "metadata": {},
     "output_type": "execute_result"
    },
    {
     "data": {
      "image/png": "[encoded data removed]",
      "text/plain": [
       "<Figure size 864x576 with 1 Axes>"
      ]
     },
     "metadata": {
      "needs_background": "light"
     },
     "output_type": "display_data"
    }
   ],
   "source": [
    "print(\"SOAL 2: Histogram Kadar Air\")\n",
    "df[\"KadarAir\"].plot.hist(bins=100,figsize=(12,8),rwidth=0.5)"
   ]
  },
  {
   "cell_type": "code",
   "execution_count": 29,
   "metadata": {},
   "outputs": [
    {
     "name": "stdout",
     "output_type": "stream",
     "text": [
      "SOAL 2: Boxplot Keliling\n"
     ]
    },
    {
     "data": {
      "image/png": "[encoded data removed]",
      "text/plain": [
       "<Figure size 432x288 with 1 Axes>"
      ]
     },
     "metadata": {
      "needs_background": "light"
     },
     "output_type": "display_data"
    }
   ],
   "source": [
    "print(\"SOAL 2: Boxplot Keliling\")\n",
    "%matplotlib inline\n",
    "boxplot = df.boxplot(column=[\"Keliling\"])"
   ]
  },
  {
   "cell_type": "code",
   "execution_count": 30,
   "metadata": {},
   "outputs": [
    {
     "name": "stdout",
     "output_type": "stream",
     "text": [
      "SOAL 2: Histogram Keliling\n"
     ]
    },
    {
     "data": {
      "text/plain": [
       "<AxesSubplot:ylabel='Frequency'>"
      ]
     },
     "execution_count": 30,
     "metadata": {},
     "output_type": "execute_result"
    },
    {
     "data": {
      "image/png": "[encoded data removed]",
      "text/plain": [
       "<Figure size 864x576 with 1 Axes>"
      ]
     },
     "metadata": {
      "needs_background": "light"
     },
     "output_type": "display_data"
    }
   ],
   "source": [
    "print(\"SOAL 2: Histogram Keliling\")\n",
    "df[\"Keliling\"].plot.hist(bins=100,figsize=(12,8),rwidth=0.5)"
   ]
  },
  {
   "cell_type": "code",
   "execution_count": 31,
   "metadata": {},
   "outputs": [
    {
     "name": "stdout",
     "output_type": "stream",
     "text": [
      "SOAL 2: Boxplot Bulatan\n"
     ]
    },
    {
     "data": {
      "image/png": "[encoded data removed]",
      "text/plain": [
       "<Figure size 432x288 with 1 Axes>"
      ]
     },
     "metadata": {
      "needs_background": "light"
     },
     "output_type": "display_data"
    }
   ],
   "source": [
    "print(\"SOAL 2: Boxplot Bulatan\")\n",
    "%matplotlib inline\n",
    "boxplot = df.boxplot(column=[\"Bulatan\"])"
   ]
  },
  {
   "cell_type": "code",
   "execution_count": 32,
   "metadata": {},
   "outputs": [
    {
     "name": "stdout",
     "output_type": "stream",
     "text": [
      "SOAL 2: Histogram Bulatan\n"
     ]
    },
    {
     "data": {
      "text/plain": [
       "<AxesSubplot:ylabel='Frequency'>"
      ]
     },
     "execution_count": 32,
     "metadata": {},
     "output_type": "execute_result"
    },
    {
     "data": {
      "image/png": "[encoded data removed]",
      "text/plain": [
       "<Figure size 864x576 with 1 Axes>"
      ]
     },
     "metadata": {
      "needs_background": "light"
     },
     "output_type": "display_data"
    }
   ],
   "source": [
    "print(\"SOAL 2: Histogram Bulatan\")\n",
    "df[\"Bulatan\"].plot.hist(bins=100,figsize=(12,8),rwidth=0.5)"
   ]
  },
  {
   "cell_type": "code",
   "execution_count": 33,
   "metadata": {},
   "outputs": [
    {
     "name": "stdout",
     "output_type": "stream",
     "text": [
      "SOAL 2: Boxplot Ransum\n"
     ]
    },
    {
     "data": {
      "image/png": "[encoded data removed]",
      "text/plain": [
       "<Figure size 432x288 with 1 Axes>"
      ]
     },
     "metadata": {
      "needs_background": "light"
     },
     "output_type": "display_data"
    }
   ],
   "source": [
    "print(\"SOAL 2: Boxplot Ransum\")\n",
    "%matplotlib inline\n",
    "boxplot = df.boxplot(column=[\"Ransum\"])"
   ]
  },
  {
   "cell_type": "code",
   "execution_count": 34,
   "metadata": {},
   "outputs": [
    {
     "name": "stdout",
     "output_type": "stream",
     "text": [
      "SOAL 2: Histogram Ransum\n"
     ]
    },
    {
     "data": {
      "text/plain": [
       "<AxesSubplot:ylabel='Frequency'>"
      ]
     },
     "execution_count": 34,
     "metadata": {},
     "output_type": "execute_result"
    },
    {
     "data": {
      "image/png": "[encoded data removed]",
      "text/plain": [
       "<Figure size 864x576 with 1 Axes>"
      ]
     },
     "metadata": {
      "needs_background": "light"
     },
     "output_type": "display_data"
    }
   ],
   "source": [
    "print(\"SOAL 2: Histogram Ransum\")\n",
    "df[\"Ransum\"].plot.hist(bins=100,figsize=(12,8),rwidth=0.5)"
   ]
  },
  {
   "cell_type": "code",
   "execution_count": 35,
   "metadata": {},
   "outputs": [
    {
     "name": "stdout",
     "output_type": "stream",
     "text": [
      "SOAL 3: Normality test Daerah\n"
     ]
    },
    {
     "name": "stderr",
     "output_type": "stream",
     "text": [
      "c:\\users\\lenovo\\appdata\\local\\programs\\python\\python39\\lib\\site-packages\\seaborn\\distributions.py:2557: FutureWarning: `distplot` is a deprecated function and will be removed in a future version. Please adapt your code to use either `displot` (a figure-level function with similar flexibility) or `histplot` (an axes-level function for histograms).\n",
      "  warnings.warn(msg, FutureWarning)\n"
     ]
    },
    {
     "name": "stdout",
     "output_type": "stream",
     "text": [
      "stat=10.859, p=0.004\n",
      "Tidak terdistribusi normal karena nilai p lebih kecil dari 0.05 dan histogram tidak simetris\n"
     ]
    },
    {
     "data": {
      "image/png": "[encoded data removed]",
      "text/plain": [
       "<Figure size 432x288 with 1 Axes>"
      ]
     },
     "metadata": {
      "needs_background": "light"
     },
     "output_type": "display_data"
    }
   ],
   "source": [
    "print(\"SOAL 3: Normality test Daerah\")\n",
    "sns.distplot(df['Daerah'],color='#86bf91', bins=100)\n",
    "stat, p = normaltest(df[\"Daerah\"])\n",
    "print(\"stat=%.3f, p=%.3f\" % (stat, p))\n",
    "if (p > 0.05):\n",
    "    print(\"Terdistribusi normal karena nilai p lebih besar dari 0.05 dan histogram simetris\")\n",
    "else:\n",
    "    print(\"Tidak terdistribusi normal karena nilai p lebih kecil dari 0.05 dan histogram tidak simetris\")"
   ]
  },
  {
   "cell_type": "code",
   "execution_count": 130,
   "metadata": {},
   "outputs": [
    {
     "name": "stdout",
     "output_type": "stream",
     "text": [
      "SOAL 3: Normality test Sumu Utama\n",
      "stat=95.120, p=0.000\n",
      "Tidak terdistribusi normal karena nilai p lebih kecil dari 0.05 dan histogram tidak simetris\n"
     ]
    },
    {
     "data": {
      "image/png": "[encoded data removed]",
      "text/plain": [
       "<Figure size 432x288 with 1 Axes>"
      ]
     },
     "metadata": {
      "needs_background": "light"
     },
     "output_type": "display_data"
    }
   ],
   "source": [
    "print(\"SOAL 3: Normality test Sumbu Utama\")\n",
    "sns.distplot(df['SumbuUtama'],color='#86bf91', bins=100)\n",
    "stat, p = normaltest(df[\"SumbuUtama\"])\n",
    "print(\"stat=%.3f, p=%.3f\" % (stat, p))\n",
    "if (p > 0.05):\n",
    "    print(\"Terdistribusi normal karena nilai p lebih besar dari 0.05 dan histogram simetris\")\n",
    "else:\n",
    "    print(\"Tidak terdistribusi normal karena nilai p lebih kecil dari 0.05 dan histogram tidak simetris\")"
   ]
  },
  {
   "cell_type": "code",
   "execution_count": 131,
   "metadata": {},
   "outputs": [
    {
     "name": "stdout",
     "output_type": "stream",
     "text": [
      "SOAL 3: Normality test Sumbu Kecil\n",
      "stat=3.698, p=0.157\n",
      "Terdistribusi normal karena nilai p lebih besar dari 0.05 dan histogram simetris\n"
     ]
    },
    {
     "data": {
      "image/png": "[encoded data removed]",
      "text/plain": [
       "<Figure size 432x288 with 1 Axes>"
      ]
     },
     "metadata": {
      "needs_background": "light"
     },
     "output_type": "display_data"
    }
   ],
   "source": [
    "print(\"SOAL 3: Normality test Sumbu Kecil\")\n",
    "sns.distplot(df['SumbuKecil'],color='#86bf91', bins=100)\n",
    "stat, p = normaltest(df[\"SumbuKecil\"])\n",
    "print(\"stat=%.3f, p=%.3f\" % (stat, p))\n",
    "if (p > 0.05):\n",
    "    print(\"Terdistribusi normal karena nilai p lebih besar dari 0.05 dan histogram simetris\")\n",
    "else:\n",
    "    print(\"Tidak terdistribusi normal karena nilai p lebih kecil dari 0.05 dan histogram tidak simetris\")"
   ]
  },
  {
   "cell_type": "code",
   "execution_count": 132,
   "metadata": {},
   "outputs": [
    {
     "name": "stdout",
     "output_type": "stream",
     "text": [
      "SOAL 3: Normality test Keunikan\n",
      "stat=158.617, p=0.000\n",
      "Tidak terdistribusi normal karena nilai p lebih kecil dari 0.05 dan histogram tidak simetris\n"
     ]
    },
    {
     "data": {
      "image/png": "[encoded data removed]",
      "text/plain": [
       "<Figure size 432x288 with 1 Axes>"
      ]
     },
     "metadata": {
      "needs_background": "light"
     },
     "output_type": "display_data"
    }
   ],
   "source": [
    "print(\"SOAL 3: Normality test Keunikan\")\n",
    "sns.distplot(df['Keunikan'],color='#86bf91', bins=100)\n",
    "stat, p = normaltest(df[\"Keunikan\"])\n",
    "print(\"stat=%.3f, p=%.3f\" % (stat, p))\n",
    "if (p > 0.05):\n",
    "    print(\"Terdistribusi normal karena nilai p lebih besar dari 0.05 dan histogram simetris\")\n",
    "else:\n",
    "    print(\"Tidak terdistribusi normal karena nilai p lebih kecil dari 0.05 dan histogram tidak simetris\")"
   ]
  },
  {
   "cell_type": "code",
   "execution_count": 133,
   "metadata": {},
   "outputs": [
    {
     "name": "stdout",
     "output_type": "stream",
     "text": [
      "SOAL 3: Normality test Area Bulatan\n",
      "stat=10.739, p=0.005\n",
      "Tidak terdistribusi normal karena nilai p lebih kecil dari 0.05 dan histogram tidak simetris\n"
     ]
    },
    {
     "data": {
      "image/png": "[encoded data removed]",
      "text/plain": [
       "<Figure size 432x288 with 1 Axes>"
      ]
     },
     "metadata": {
      "needs_background": "light"
     },
     "output_type": "display_data"
    }
   ],
   "source": [
    "print(\"SOAL 3: Normality test Area Bulatan\")\n",
    "sns.distplot(df['AreaBulatan'],color='#86bf91', bins=100)\n",
    "stat, p = normaltest(df[\"AreaBulatan\"])\n",
    "print(\"stat=%.3f, p=%.3f\" % (stat, p))\n",
    "if (p > 0.05):\n",
    "    print(\"Terdistribusi normal karena nilai p lebih besar dari 0.05 dan histogram simetris\")\n",
    "else:\n",
    "    print(\"Tidak terdistribusi normal karena nilai p lebih kecil dari 0.05 dan histogram tidak simetris\")"
   ]
  },
  {
   "cell_type": "code",
   "execution_count": 134,
   "metadata": {},
   "outputs": [
    {
     "name": "stdout",
     "output_type": "stream",
     "text": [
      "SOAL 3: Normality test Diameter\n",
      "stat=7.446, p=0.024\n",
      "Tidak terdistribusi normal karena nilai p lebih kecil dari 0.05 dan histogram tidak simetris\n"
     ]
    },
    {
     "data": {
      "image/png": "[encoded data removed]",
      "text/plain": [
       "<Figure size 432x288 with 1 Axes>"
      ]
     },
     "metadata": {
      "needs_background": "light"
     },
     "output_type": "display_data"
    }
   ],
   "source": [
    "print(\"SOAL 3: Normality test Diameter\")\n",
    "sns.distplot(df['Diameter'],color='#86bf91', bins=100)\n",
    "stat, p = normaltest(df[\"Diameter\"])\n",
    "print(\"stat=%.3f, p=%.3f\" % (stat, p))\n",
    "if (p > 0.05):\n",
    "    print(\"Terdistribusi normal karena nilai p lebih besar dari 0.05 dan histogram simetris\")\n",
    "else:\n",
    "    print(\"Tidak terdistribusi normal karena nilai p lebih kecil dari 0.05 dan histogram tidak simetris\")"
   ]
  },
  {
   "cell_type": "code",
   "execution_count": 135,
   "metadata": {},
   "outputs": [
    {
     "name": "stdout",
     "output_type": "stream",
     "text": [
      "SOAL 3: Normality test Kadar Air\n",
      "stat=48.756, p=0.000\n",
      "Tidak terdistribusi normal karena nilai p lebih kecil dari 0.05 dan histogram tidak simetris\n"
     ]
    },
    {
     "data": {
      "image/png": "[encoded data removed]",
      "text/plain": [
       "<Figure size 432x288 with 1 Axes>"
      ]
     },
     "metadata": {
      "needs_background": "light"
     },
     "output_type": "display_data"
    }
   ],
   "source": [
    "print(\"SOAL 3: Normality test Kadar Air\")\n",
    "sns.distplot(df['KadarAir'],color='#86bf91', bins=100)\n",
    "stat, p = normaltest(df[\"KadarAir\"])\n",
    "print(\"stat=%.3f, p=%.3f\" % (stat, p))\n",
    "if (p > 0.05):\n",
    "    print(\"Terdistribusi normal karena nilai p lebih besar dari 0.05 dan histogram simetris\")\n",
    "else:\n",
    "    print(\"Tidak terdistribusi normal karena nilai p lebih kecil dari 0.05 dan histogram tidak simetris\")"
   ]
  },
  {
   "cell_type": "code",
   "execution_count": 136,
   "metadata": {},
   "outputs": [
    {
     "name": "stdout",
     "output_type": "stream",
     "text": [
      "SOAL 3: Normality test Keliling\n",
      "stat=67.465, p=0.000\n",
      "Tidak terdistribusi normal karena nilai p lebih kecil dari 0.05 dan histogram tidak simetris\n"
     ]
    },
    {
     "data": {
      "image/png": "[encoded data removed]",
      "text/plain": [
       "<Figure size 432x288 with 1 Axes>"
      ]
     },
     "metadata": {
      "needs_background": "light"
     },
     "output_type": "display_data"
    }
   ],
   "source": [
    "print(\"SOAL 3: Normality test Keliling\")\n",
    "sns.distplot(df['Keliling'],color='#86bf91', bins=100)\n",
    "stat, p = normaltest(df[\"Keliling\"])\n",
    "print(\"stat=%.3f, p=%.3f\" % (stat, p))\n",
    "if (p > 0.05):\n",
    "    print(\"Terdistribusi normal karena nilai p lebih besar dari 0.05 dan histogram simetris\")\n",
    "else:\n",
    "    print(\"Tidak terdistribusi normal karena nilai p lebih kecil dari 0.05 dan histogram tidak simetris\")"
   ]
  },
  {
   "cell_type": "code",
   "execution_count": 137,
   "metadata": {},
   "outputs": [
    {
     "name": "stdout",
     "output_type": "stream",
     "text": [
      "SOAL 3: Normality test Bulatan\n",
      "stat=442.119, p=0.000\n",
      "Tidak terdistribusi normal karena nilai p lebih kecil dari 0.05 dan histogram tidak simetris\n"
     ]
    },
    {
     "data": {
      "image/png": "[encoded data removed]",
      "text/plain": [
       "<Figure size 432x288 with 1 Axes>"
      ]
     },
     "metadata": {
      "needs_background": "light"
     },
     "output_type": "display_data"
    }
   ],
   "source": [
    "print(\"SOAL 3: Normality test Bulatan\")\n",
    "sns.distplot(df['Bulatan'],color='#86bf91', bins=100)\n",
    "stat, p = normaltest(df[\"Bulatan\"])\n",
    "print(\"stat=%.3f, p=%.3f\" % (stat, p))\n",
    "if (p > 0.05):\n",
    "    print(\"Terdistribusi normal karena nilai p lebih besar dari 0.05 dan histogram simetris\")\n",
    "else:\n",
    "    print(\"Tidak terdistribusi normal karena nilai p lebih kecil dari 0.05 dan histogram tidak simetris\")"
   ]
  },
  {
   "cell_type": "code",
   "execution_count": 138,
   "metadata": {},
   "outputs": [
    {
     "name": "stdout",
     "output_type": "stream",
     "text": [
      "SOAL 3: Normality test Ransum\n",
      "stat=37.060, p=0.000\n",
      "Tidak terdistribusi normal karena nilai p lebih kecil dari 0.05 dan histogram tidak simetris\n"
     ]
    },
    {
     "data": {
      "image/png": "[encoded data removed]",
      "text/plain": [
       "<Figure size 432x288 with 1 Axes>"
      ]
     },
     "metadata": {
      "needs_background": "light"
     },
     "output_type": "display_data"
    }
   ],
   "source": [
    "print(\"SOAL 3: Normality test Ransum\")\n",
    "sns.distplot(df['Ransum'],color='#86bf91', bins=100)\n",
    "stat, p = normaltest(df[\"Ransum\"])\n",
    "print(\"stat=%.3f, p=%.3f\" % (stat, p))\n",
    "if (p > 0.05):\n",
    "    print(\"Terdistribusi normal karena nilai p lebih besar dari 0.05 dan histogram simetris\")\n",
    "else:\n",
    "    print(\"Tidak terdistribusi normal karena nilai p lebih kecil dari 0.05 dan histogram tidak simetris\")"
   ]
  },
  {
   "cell_type": "code",
   "execution_count": 38,
   "metadata": {},
   "outputs": [
    {
     "name": "stdout",
     "output_type": "stream",
     "text": [
      "SOAL 4A\n",
      "Nilai rata-rata Daerah di atas 4700?\n",
      "\n",
      "Enam langkah testing:\n",
      "1. Tentukan hipotesis nol atau H0\n",
      "   H0: μ = 4700\n",
      "2. Tentukan hipotesis alternatif atau H1\n",
      "   H1: μ > 4700\n",
      "3. Tentukan tingkat signifikan α\n",
      "   α =  0.05\n",
      "4. Tentukan uji statistik yang sesuai dan tentukan daerah kritis\n",
      "   Didapatkan daerah kritis z >  1.6448536269514722\n",
      "   Digunakan uji statistik z\n",
      "5. Hitung uji nilai statistik dari data sample\n",
      "   p value =  0.010862155196799894\n",
      "   z value =  2.295153824252517\n",
      "6. Ambil keputusan apakah H0 ditolak atau tidak\n",
      "   H0 ditolak karena nilai ztest berada pada daerah kritis\n",
      "   H0 ditolak karena p value lebih kecil dari nilai signifikan\n",
      "Boxplot:\n"
     ]
    },
    {
     "data": {
      "image/png": "[encoded data removed]",
      "text/plain": [
       "<Figure size 432x288 with 1 Axes>"
      ]
     },
     "metadata": {
      "needs_background": "light"
     },
     "output_type": "display_data"
    }
   ],
   "source": [
    "print(\"SOAL 4A\")\n",
    "print(\"Nilai rata-rata Daerah di atas 4700?\\n\")\n",
    "print(\"Enam langkah testing:\")\n",
    "print(\"1. Tentukan hipotesis nol atau H0\")\n",
    "print(\"   H0: μ = 4700\")\n",
    "print(\"2. Tentukan hipotesis alternatif atau H1\")\n",
    "print(\"   H1: μ > 4700\")\n",
    "print(\"3. Tentukan tingkat signifikan α\")\n",
    "sig = 0.05\n",
    "print(\"   α = \", sig)\n",
    "print(\"4. Tentukan uji statistik yang sesuai dan tentukan daerah kritis\")\n",
    "daerahKritis = stats.norm.ppf(1-sig)\n",
    "print(\"   Didapatkan daerah kritis z > \", daerahKritis)\n",
    "print(\"   Digunakan uji statistik z\")\n",
    "print(\"5. Hitung uji nilai statistik dari data sample\")\n",
    "ztest ,pval = stests.ztest(df[\"Daerah\"], x2=None, value=4700,alternative=\"larger\")\n",
    "print(\"   p value = \", float(pval))\n",
    "print(\"   z value = \", ztest)\n",
    "print(\"6. Ambil keputusan apakah H0 ditolak atau tidak\")\n",
    "if (ztest > daerahKritis):\n",
    "    print(\"   H0 ditolak karena nilai ztest berada pada daerah kritis\")\n",
    "else:\n",
    "    print(\"   H0 diterima karena nilai ztest tidak berada pada daerah kritis\")\n",
    "if (pval < 0.05):\n",
    "    print(\"   H0 ditolak karena p value lebih kecil dari nilai signifikan\")\n",
    "else:\n",
    "    print(\"   H0 diterima karena p value lebih besar dari nilai signifikan\")\n",
    "print(\"Boxplot:\")\n",
    "%matplotlib inline\n",
    "boxplot = df.boxplot(column=[\"Daerah\"])"
   ]
  },
  {
   "cell_type": "code",
   "execution_count": 43,
   "metadata": {},
   "outputs": [
    {
     "name": "stdout",
     "output_type": "stream",
     "text": [
      "SOAL 4B\n",
      "Nilai Rata-rata Sumbu Utama tidak sama dengan 116?\n",
      "\n",
      "Enam langkah testing:\n",
      "1. Tentukan hipotesis nol atau H0\n",
      "   H0: μ = 116\n",
      "2. Tentukan hipotesis alternatif atau H1\n",
      "   H1: μ != 116\n",
      "3. Tentukan tingkat signifikan α\n",
      "   α =  0.05\n",
      "4. Tentukan uji statistik yang sesuai dan tentukan daerah kritis\n",
      "   Didapatkan daerah kritis z > 1.959963984540054 atau z < -1.959963984540054\n",
      "   Digunakan uji statistik z\n",
      "5. Hitung uji nilai statistik dari data sample\n",
      "   p value =  0.955941587297752\n",
      "   z value =  0.05524712326730106\n",
      "6. Ambil keputusan apakah H0 ditolak atau tidak\n",
      "   H0 diterima karena nilai ztest tidak berada pada daerah kritis\n",
      "   H0 diterima karena p value lebih besar dari nilai signifikan\n",
      "Boxplot:\n"
     ]
    },
    {
     "data": {
      "image/png": "[encoded data removed]",
      "text/plain": [
       "<Figure size 432x288 with 1 Axes>"
      ]
     },
     "metadata": {
      "needs_background": "light"
     },
     "output_type": "display_data"
    }
   ],
   "source": [
    "print(\"SOAL 4B\")\n",
    "print(\"Nilai Rata-rata Sumbu Utama tidak sama dengan 116?\\n\")\n",
    "print(\"Enam langkah testing:\")\n",
    "print(\"1. Tentukan hipotesis nol atau H0\")\n",
    "print(\"   H0: μ = 116\")\n",
    "print(\"2. Tentukan hipotesis alternatif atau H1\")\n",
    "print(\"   H1: μ != 116\")\n",
    "print(\"3. Tentukan tingkat signifikan α\")\n",
    "sig = 0.05\n",
    "print(\"   α = \", sig)\n",
    "print(\"4. Tentukan uji statistik yang sesuai dan tentukan daerah kritis\")\n",
    "daerahKritis = stats.norm.ppf(1-(sig/2))\n",
    "print(\"   Didapatkan daerah kritis z > \"+str(daerahKritis)+\" atau z < -\"+str(daerahKritis))\n",
    "print(\"   Digunakan uji statistik z\")\n",
    "print(\"5. Hitung uji nilai statistik dari data sample\")\n",
    "ztest ,pval = stests.ztest(df[\"SumbuUtama\"], x2=None, value=116)\n",
    "print(\"   p value = \", float(pval))\n",
    "print(\"   z value = \", ztest)\n",
    "print(\"6. Ambil keputusan apakah H0 ditolak atau tidak\")\n",
    "if (ztest > daerahKritis or ztest < -daerahKritis):\n",
    "    print(\"   H0 ditolak karena nilai ztest berada pada daerah kritis\")\n",
    "else:\n",
    "    print(\"   H0 diterima karena nilai ztest tidak berada pada daerah kritis\")\n",
    "if (pval < 0.05):\n",
    "    print(\"   H0 ditolak karena p value lebih kecil dari nilai signifikan\")\n",
    "else:\n",
    "    print(\"   H0 diterima karena p value lebih besar dari nilai signifikan\")\n",
    "print(\"Boxplot:\")\n",
    "%matplotlib inline\n",
    "boxplot = df.boxplot(column=[\"SumbuUtama\"])"
   ]
  },
  {
   "cell_type": "code",
   "execution_count": 44,
   "metadata": {},
   "outputs": [
    {
     "name": "stdout",
     "output_type": "stream",
     "text": [
      "SOAL 4C\n",
      "Nilai Rata-rata 20 baris pertama kolom Sumbu Kecil bukan 50?\n",
      "\n",
      "Enam langkah testing:\n",
      "1. Tentukan hipotesis nol atau H0\n",
      "   H0: μ = 50\n",
      "2. Tentukan hipotesis alternatif atau H1\n",
      "   H1: μ != 50\n",
      "3. Tentukan tingkat signifikan α\n",
      "   α =  0.05\n",
      "4. Tentukan uji statistik yang sesuai dan tentukan daerah kritis\n",
      "   Didapatkan daerah kritis z > 1.959963984540054 atau z < -1.959963984540054\n",
      "   Digunakan uji statistik z\n",
      "5. Hitung uji nilai statistik dari data sample\n",
      "   p value =  9.284238477468992e-11\n",
      "   z value =  6.478168916968894\n",
      "6. Ambil keputusan apakah H0 ditolak atau tidak\n",
      "   H0 ditolak karena nilai ztest berada pada daerah kritis\n",
      "   H0 ditolak karena p value lebih kecil dari nilai signifikan\n",
      "Boxplot:\n"
     ]
    },
    {
     "data": {
      "image/png": "[encoded data removed]",
      "text/plain": [
       "<Figure size 432x288 with 1 Axes>"
      ]
     },
     "metadata": {
      "needs_background": "light"
     },
     "output_type": "display_data"
    }
   ],
   "source": [
    "print(\"SOAL 4C\")\n",
    "print(\"Nilai Rata-rata 20 baris pertama kolom Sumbu Kecil bukan 50?\\n\")\n",
    "data = df.head(20)\n",
    "print(\"Enam langkah testing:\")\n",
    "print(\"1. Tentukan hipotesis nol atau H0\")\n",
    "print(\"   H0: μ = 50\")\n",
    "print(\"2. Tentukan hipotesis alternatif atau H1\")\n",
    "print(\"   H1: μ != 50\")\n",
    "print(\"3. Tentukan tingkat signifikan α\")\n",
    "sig = 0.05\n",
    "print(\"   α = \", sig)\n",
    "print(\"4. Tentukan uji statistik yang sesuai dan tentukan daerah kritis\")\n",
    "daerahKritis = stats.norm.ppf(1-(sig/2))\n",
    "print(\"   Didapatkan daerah kritis z > \"+str(daerahKritis)+\" atau z < -\"+str(daerahKritis))\n",
    "print(\"   Digunakan uji statistik z\")\n",
    "print(\"5. Hitung uji nilai statistik dari data sample\")\n",
    "ztest ,pval = stests.ztest(data[\"SumbuKecil\"], x2=None, value=50)\n",
    "print(\"   p value = \", float(pval))\n",
    "print(\"   z value = \", ztest)\n",
    "print(\"6. Ambil keputusan apakah H0 ditolak atau tidak\")\n",
    "if (ztest > daerahKritis or ztest < -daerahKritis):\n",
    "    print(\"   H0 ditolak karena nilai ztest berada pada daerah kritis\")\n",
    "else:\n",
    "    print(\"   H0 diterima karena nilai ztest tidak berada pada daerah kritis\")\n",
    "if (pval < 0.05):\n",
    "    print(\"   H0 ditolak karena p value lebih kecil dari nilai signifikan\")\n",
    "else:\n",
    "    print(\"   H0 diterima karena p value lebih besar dari nilai signifikan\")\n",
    "print(\"Boxplot:\")\n",
    "%matplotlib inline\n",
    "boxplot = data.boxplot(column=[\"SumbuKecil\"])"
   ]
  },
  {
   "cell_type": "code",
   "execution_count": 45,
   "metadata": {},
   "outputs": [
    {
     "name": "stdout",
     "output_type": "stream",
     "text": [
      "SOAL 4D\n",
      "Proporsi nilai Diameter yang lebih dari 85, adalah tidak sama dengan 15%?\n",
      "\n",
      "Enam langkah testing:\n",
      "1. Tentukan hipotesis nol atau H0\n",
      "   H0 = μ = 0.15\n",
      "2. Tentukan hipotesis alternatif atau H1\n",
      "   H1 = μ != 0.15 (two-tailed test)\n",
      "3. Tentukan tingkat signifikan α\n",
      "   α =  0.05\n",
      "4. Tentukan uji statistik yang sesuai dan tentukan daerah kritis\n",
      "   Didapatkan daerah kritis z > 1.959963984540054 atau z < -1.959963984540054\n",
      "   Digunakan uji statistik z\n",
      "5. Hitung uji nilai statistik dari data sample\n",
      "   P-value = 0.012842459209356831\n",
      "   z = 2.4881083733392226\n",
      "6. Ambil keputusan apakah H0 ditolak atau tidak\n",
      "   H0 ditolak karena nilai ztest berada pada daerah kritis\n",
      "   H0 ditolak karena p value lebih kecil dari nilai signifikan\n",
      "Boxplot:\n"
     ]
    },
    {
     "data": {
      "image/png": "[encoded data removed]",
      "text/plain": [
       "<Figure size 432x288 with 1 Axes>"
      ]
     },
     "metadata": {
      "needs_background": "light"
     },
     "output_type": "display_data"
    }
   ],
   "source": [
    "print(\"SOAL 4D\")\n",
    "print(\"Proporsi nilai Diameter yang lebih dari 85, adalah tidak sama dengan 15%?\\n\")\n",
    "print(\"Enam langkah testing:\")\n",
    "print(\"1. Tentukan hipotesis nol atau H0\")\n",
    "print(\"   H0 = μ = 0.15\")\n",
    "print(\"2. Tentukan hipotesis alternatif atau H1\")\n",
    "print(\"   H1 = μ != 0.15 (two-tailed test)\")\n",
    "print(\"3. Tentukan tingkat signifikan α\")\n",
    "sig = 0.05\n",
    "print(\"   α = \", sig)\n",
    "print(\"4. Tentukan uji statistik yang sesuai dan tentukan daerah kritis\")\n",
    "daerahKritis = norm.ppf(1-(sig/2))\n",
    "print(\"   Didapatkan daerah kritis z > \"+str(daerahKritis)+\" atau z < -\"+str(daerahKritis))\n",
    "print(\"   Digunakan uji statistik z\")\n",
    "print(\"5. Hitung uji nilai statistik dari data sample\")\n",
    "df2 = df[df[\"Diameter\"]>85]\n",
    "ztest, pval = proportions_ztest(df2[\"Diameter\"].count(),\n",
    "                                df[\"Diameter\"].count(),\n",
    "                                0.15, alternative=\"two-sided\")\n",
    "print(\"   P-value =\", pval)\n",
    "print(\"   z =\", ztest)\n",
    "print(\"6. Ambil keputusan apakah H0 ditolak atau tidak\")\n",
    "if (ztest > daerahKritis or ztest < -daerahKritis):\n",
    "    print(\"   H0 ditolak karena nilai ztest berada pada daerah kritis\")\n",
    "else:\n",
    "    print(\"   H0 diterima karena nilai ztest tidak berada pada daerah kritis\")\n",
    "if (pval < 0.05):\n",
    "    print(\"   H0 ditolak karena p value lebih kecil dari nilai signifikan\")\n",
    "else:\n",
    "    print(\"   H0 diterima karena p value lebih besar dari nilai signifikan\")\n",
    "print(\"Boxplot:\")\n",
    "%matplotlib inline\n",
    "boxplot = df.boxplot(column=[\"Diameter\"])"
   ]
  },
  {
   "cell_type": "code",
   "execution_count": 48,
   "metadata": {},
   "outputs": [
    {
     "name": "stdout",
     "output_type": "stream",
     "text": [
      "SOAL 4E\n",
      "Proporsi nilai Keliling yang kurang dari 100, adalah kurang dari 5%?\n",
      "\n",
      "Enam langkah testing:\n",
      "1. Tentukan hipotesis nol atau H0\n",
      "   H0 = μ = 0.05\n",
      "2. Tentukan hipotesis alternatif atau H1\n",
      "   H1 = μ < 0.05 (one-tailed test)\n",
      "3. Tentukan tingkat signifikan α\n",
      "   α =  0.05\n",
      "4. Tentukan uji statistik yang sesuai dan tentukan daerah kritis\n",
      "   Didapatkan daerah kritis z <  1.6448536269514729\n",
      "5. Hitung uji nilai statistik dari data sample\n",
      "   Tidak ada Keliling yang kurang dari 100\n",
      "   P-value = 0.0\n",
      "   z = -inf\n",
      "6. Ambil keputusan apakah H0 ditolak atau tidak\n",
      "   H0 ditolak karena nilai ztest berada pada daerah kritis\n",
      "   H0 ditolak karena p value lebih kecil dari nilai signifikan\n",
      "Boxplot:\n"
     ]
    },
    {
     "name": "stderr",
     "output_type": "stream",
     "text": [
      "c:\\users\\lenovo\\appdata\\local\\programs\\python\\python39\\lib\\site-packages\\statsmodels\\stats\\weightstats.py:790: RuntimeWarning: divide by zero encountered in double_scalars\n",
      "  zstat = value / std\n"
     ]
    },
    {
     "data": {
      "image/png": "[encoded data removed]",
      "text/plain": [
       "<Figure size 432x288 with 1 Axes>"
      ]
     },
     "metadata": {
      "needs_background": "light"
     },
     "output_type": "display_data"
    }
   ],
   "source": [
    "print(\"SOAL 4E\")\n",
    "print(\"Proporsi nilai Keliling yang kurang dari 100, adalah kurang dari 5%?\\n\")\n",
    "print(\"Enam langkah testing:\")\n",
    "print(\"1. Tentukan hipotesis nol atau H0\")\n",
    "print(\"   H0 = μ = 0.05\")\n",
    "print(\"2. Tentukan hipotesis alternatif atau H1\")\n",
    "print(\"   H1 = μ < 0.05 (one-tailed test)\")\n",
    "print(\"3. Tentukan tingkat signifikan α\")\n",
    "sig = 0.05\n",
    "print(\"   α = \", sig)\n",
    "print(\"4. Tentukan uji statistik yang sesuai dan tentukan daerah kritis\")\n",
    "daerahKritis = norm.ppf(sig)\n",
    "print(\"   Didapatkan daerah kritis z < \", -daerahKritis)\n",
    "print(\"5. Hitung uji nilai statistik dari data sample\")\n",
    "df2 = df[df[\"Keliling\"]<100]\n",
    "print(\"   Tidak ada Keliling yang kurang dari 100\")\n",
    "ztest, pval = proportions_ztest(df2[\"Keliling\"].count(),\n",
    "                                df[\"Keliling\"].count(),\n",
    "                                0.05, alternative=\"smaller\")\n",
    "print(\"   P-value =\", pval)\n",
    "print(\"   z =\", ztest)\n",
    "print(\"6. Ambil keputusan apakah H0 ditolak atau tidak\")\n",
    "if (ztest < -daerahKritis):\n",
    "    print(\"   H0 ditolak karena nilai ztest berada pada daerah kritis\")\n",
    "else:\n",
    "    print(\"   H0 diterima karena nilai ztest tidak berada pada daerah kritis\")\n",
    "if (pval < 0.05):\n",
    "    print(\"   H0 ditolak karena p value lebih kecil dari nilai signifikan\")\n",
    "else:\n",
    "    print(\"   H0 diterima karena p value lebih besar dari nilai signifikan\")\n",
    "print(\"Boxplot:\")\n",
    "%matplotlib inline\n",
    "boxplot = df.boxplot(column=[\"Keliling\"])"
   ]
  },
  {
   "cell_type": "code",
   "execution_count": 77,
   "metadata": {},
   "outputs": [
    {
     "name": "stdout",
     "output_type": "stream",
     "text": [
      "SOAL 5A\n",
      "Data kolom AreaBulatan dibagi 2 sama rata: bagian awal dan bagian akhir kolom.\n",
      "Benarkah rata-rata kedua bagian tersebut sama?\n",
      "\n",
      "Enam langkah testing:\n",
      "1. Tentukan hipotesis nol atau H0\n",
      "   H0: μ1-μ2 = 0\n",
      "2. Tentukan hipotesis alternatif atau H1\n",
      "   H1: μ1-μ2 != 0\n",
      "3. Tentukan tingkat signifikan α\n",
      "   α = 0.05\n",
      "4. Tentukan uji statistik yang sesuai dan tentukan daerah kritis\n",
      "   Digunakan uji statistik z-test\n",
      "   Daerah kritis = 1.959963984540054\n",
      "5. Hitung uji nilai statistik dari data sample\n",
      "   Nilai uji statistik (z) = 10.356073672974004\n",
      "   Nilai p = 3.9275492967285886e-25\n",
      "6. Ambil keputusan apakah H0 ditolak atau tidak\n",
      "   H0 ditolak karena nilai ztest berada di daerah kritis\n",
      "   H0 ditolak karena nilai p lebih kecil dari nilai signifikan\n",
      "Boxplot:\n"
     ]
    },
    {
     "data": {
      "image/png": "[encoded data removed]",
      "text/plain": [
       "<Figure size 432x288 with 1 Axes>"
      ]
     },
     "metadata": {
      "needs_background": "light"
     },
     "output_type": "display_data"
    }
   ],
   "source": [
    "print(\"SOAL 5A\")\n",
    "print(\"Data kolom AreaBulatan dibagi 2 sama rata: bagian awal dan bagian akhir kolom.\")\n",
    "print(\"Benarkah rata-rata kedua bagian tersebut sama?\\n\")\n",
    "splitData = np.array_split(df,2)\n",
    "sampleAwal = splitData[0].sample(100)\n",
    "sampleAkhir = splitData[1].sample(100)\n",
    "print(\"Enam langkah testing:\")\n",
    "print(\"1. Tentukan hipotesis nol atau H0\")\n",
    "print(\"   H0: μ1-μ2 = 0\")\n",
    "print(\"2. Tentukan hipotesis alternatif atau H1\")\n",
    "print(\"   H1: μ1-μ2 != 0\")\n",
    "print(\"3. Tentukan tingkat signifikan α\")\n",
    "sig = 0.05\n",
    "print(\"   α =\", sig)\n",
    "print(\"4. Tentukan uji statistik yang sesuai dan tentukan daerah kritis\")\n",
    "daerahKritis = stats.norm.ppf(1-(sig/2))\n",
    "print(\"   Digunakan uji statistik z-test\")\n",
    "print(\"   Daerah kritis =\", daerahKritis)\n",
    "print(\"5. Hitung uji nilai statistik dari data sample\")\n",
    "meanAwal = sampleAwal[\"AreaBulatan\"].mean()\n",
    "meanAkhir = sampleAkhir[\"AreaBulatan\"].mean()\n",
    "stdAwal = sampleAwal[\"AreaBulatan\"].std()\n",
    "stdAkhir = sampleAkhir[\"AreaBulatan\"].std()\n",
    "ztest = (meanAwal-meanAkhir)/math.sqrt(((stdAwal**2)/100)+((stdAkhir**2)/100))\n",
    "print(\"   Nilai uji statistik (z) =\", ztest)\n",
    "pval = stats.norm.sf(abs(ztest))*2\n",
    "print(\"   Nilai p =\", pval)\n",
    "print(\"6. Ambil keputusan apakah H0 ditolak atau tidak\")\n",
    "if (ztest > daerahKritis or ztest < -daerahKritis):\n",
    "    print(\"   H0 ditolak karena nilai ztest berada di daerah kritis\")\n",
    "else:\n",
    "    print(\"   H0 diterima karean nilai ztest berada di luar daerah kritis\")\n",
    "if (sig < pval):\n",
    "    print(\"   H0 diterima karena nilai p lebih besar dari nilai signifikan\")\n",
    "else:\n",
    "    print(\"   H0 ditolak karena nilai p lebih kecil dari nilai signifikan\")\n",
    "print(\"Boxplot:\")\n",
    "%matplotlib inline\n",
    "boxplot1 = splitData[0].boxplot(column=[\"AreaBulatan\"], color=\"blue\")\n",
    "boxplot2 = splitData[1].boxplot(column=[\"AreaBulatan\"], color=\"red\")"
   ]
  },
  {
   "cell_type": "code",
   "execution_count": 78,
   "metadata": {},
   "outputs": [
    {
     "name": "stdout",
     "output_type": "stream",
     "text": [
      "SOAL 5C\n",
      "Rata-rata 20 baris pertama kolom Bulatan sama dengan 20 baris terakhirnya?\n",
      "\n",
      "Enam langkah testing:\n",
      "1. Tentukan hipotesis nol atau H0\n",
      "   H0: μ1-μ2 = 0\n",
      "2. Tentukan hipotesis alternatif atau H1\n",
      "   H1: μ1-μ2 != 0\n",
      "3. Tentukan tingkat signifikan α\n",
      "   α =  0.05\n",
      "4. Tentukan uji statistik yang sesuai dan tentukan daerah kritis\n",
      "   Digunakan uji statistik z-test\n",
      "   Daerah kritis =  1.959963984540054\n",
      "5. Hitung uji nilai statistik dari data sample\n",
      "   Nilai uji statistik (z) =  -7.731370166299448\n",
      "   Nilai p =  1.0639515255951551e-14\n",
      "6. Ambil keputusan apakah H0 ditolak atau tidak\n",
      "   H0 ditolak karena nilai ztest berada di daerah kritis\n",
      "   H0 ditolak karena nilai p lebih kecil dari nilai signifikan\n",
      "Boxplot:\n"
     ]
    },
    {
     "data": {
      "image/png": "[encoded data removed]",
      "text/plain": [
       "<Figure size 432x288 with 1 Axes>"
      ]
     },
     "metadata": {
      "needs_background": "light"
     },
     "output_type": "display_data"
    }
   ],
   "source": [
    "print(\"SOAL 5C\")\n",
    "print(\"Rata-rata 20 baris pertama kolom Bulatan sama dengan 20 baris terakhirnya?\\n\")\n",
    "dataAwal = df.head(20)\n",
    "dataAkhir = df.tail(20)\n",
    "sampleAwal = dataAwal.sample(15)\n",
    "sampleAkhir = dataAkhir.sample(15)\n",
    "print(\"Enam langkah testing:\")\n",
    "print(\"1. Tentukan hipotesis nol atau H0\")\n",
    "print(\"   H0: μ1-μ2 = 0\")\n",
    "print(\"2. Tentukan hipotesis alternatif atau H1\")\n",
    "print(\"   H1: μ1-μ2 != 0\")\n",
    "print(\"3. Tentukan tingkat signifikan α\")\n",
    "sig = 0.05\n",
    "print(\"   α =\", sig)\n",
    "print(\"4. Tentukan uji statistik yang sesuai dan tentukan daerah kritis\")\n",
    "daerahKritis = stats.norm.ppf(1-(sig/2))\n",
    "print(\"   Digunakan uji statistik z-test\")\n",
    "print(\"   Daerah kritis =\", daerahKritis)\n",
    "print(\"5. Hitung uji nilai statistik dari data sample\")\n",
    "meanAwal = sampleAwal[\"Bulatan\"].mean()\n",
    "meanAkhir = sampleAkhir[\"Bulatan\"].mean()\n",
    "stdAwal = sampleAwal[\"Bulatan\"].std()\n",
    "stdAkhir = sampleAkhir[\"Bulatan\"].std()\n",
    "ztest = (meanAwal-meanAkhir)/math.sqrt(((stdAwal**2)/100)+((stdAkhir**2)/100))\n",
    "print(\"   Nilai uji statistik (z) =\", ztest)\n",
    "pval = stats.norm.sf(abs(ztest))*2\n",
    "print(\"   Nilai p =\", pval)\n",
    "print(\"6. Ambil keputusan apakah H0 ditolak atau tidak\")\n",
    "if (ztest > daerahKritis or ztest < -daerahKritis):\n",
    "    print(\"   H0 ditolak karena nilai ztest berada di daerah kritis\")\n",
    "else:\n",
    "    print(\"   H0 diterima karean nilai ztest berada di luar daerah kritis\")\n",
    "if (sig < pval):\n",
    "    print(\"   H0 diterima karena nilai p lebih besar dari nilai signifikan\")\n",
    "else:\n",
    "    print(\"   H0 ditolak karena nilai p lebih kecil dari nilai signifikan\")\n",
    "print(\"Boxplot:\")\n",
    "%matplotlib inline\n",
    "boxplot1 = dataAwal.boxplot(column=[\"Bulatan\"], color=\"blue\")\n",
    "boxplot2 = dataAkhir.boxplot(column=[\"Bulatan\"], color=\"red\")"
   ]
  },
  {
   "cell_type": "code",
   "execution_count": 80,
   "metadata": {},
   "outputs": [
    {
     "name": "stdout",
     "output_type": "stream",
     "text": [
      "SOAL 5B\n",
      "Data kolom Kadar Air dibagi 2 sama rata: bagian awal dan bagian akhir kolom.\n",
      "Benarkah rata-rata bagian awal lebih besar dari pada bagian akhir sebesar 0.2?\n",
      "\n",
      "Enam langkah testing:\n",
      "1. Tentukan hipotesis nol atau H0\n",
      "   H0: μ1-μ2 = 0.2\n",
      "2. Tentukan hipotesis alternatif atau H1\n",
      "   H1: μ1-μ2 != 0.2\n",
      "3. Tentukan tingkat signifikan α\n",
      "   α =  0.05\n",
      "4. Tentukan uji statistik yang sesuai dan tentukan daerah kritis\n",
      "   Digunakan uji statistik z-test\n",
      "   Daerah kritis =  1.959963984540054\n",
      "5. Hitung uji nilai statistik dari data sample\n",
      "   Nilai uji statistik (z) =  -15.131396019893534\n",
      "   Nilai p =  1.0053974583572885e-51\n",
      "6. Ambil keputusan apakah H0 ditolak atau tidak\n",
      "   H0 ditolak karena nilai ztest berada di daerah kritis\n",
      "   H0 ditolak karena nilai p lebih kecil dari nilai signifikan\n",
      "Boxplot:\n"
     ]
    },
    {
     "data": {
      "image/png": "[encoded data removed]",
      "text/plain": [
       "<Figure size 432x288 with 1 Axes>"
      ]
     },
     "metadata": {
      "needs_background": "light"
     },
     "output_type": "display_data"
    }
   ],
   "source": [
    "print(\"SOAL 5B\")\n",
    "print(\"Data kolom Kadar Air dibagi 2 sama rata: bagian awal dan bagian akhir kolom.\")\n",
    "print(\"Benarkah rata-rata bagian awal lebih besar dari pada bagian akhir sebesar 0.2?\\n\")\n",
    "splitData = np.array_split(df,2)\n",
    "sampleAwal = splitData[0].sample(100)\n",
    "sampleAkhir = splitData[1].sample(100)\n",
    "print(\"Enam langkah testing:\")\n",
    "print(\"1. Tentukan hipotesis nol atau H0\")\n",
    "print(\"   H0: μ1-μ2 = 0.2\")\n",
    "print(\"2. Tentukan hipotesis alternatif atau H1\")\n",
    "print(\"   H1: μ1-μ2 != 0.2\")\n",
    "print(\"3. Tentukan tingkat signifikan α\")\n",
    "sig = 0.05\n",
    "print(\"   α =\", sig)\n",
    "print(\"4. Tentukan uji statistik yang sesuai dan tentukan daerah kritis\")\n",
    "daerahKritis = stats.norm.ppf(1-(sig/2))\n",
    "print(\"   Digunakan uji statistik z-test\")\n",
    "print(\"   Daerah kritis =\", daerahKritis)\n",
    "print(\"5. Hitung uji nilai statistik dari data sample\")\n",
    "meanAwal = sampleAwal[\"KadarAir\"].mean()\n",
    "meanAkhir = sampleAkhir[\"KadarAir\"].mean()\n",
    "stdAwal = sampleAwal[\"KadarAir\"].std()\n",
    "stdAkhir = sampleAkhir[\"KadarAir\"].std()\n",
    "ztest = (meanAwal-meanAkhir)-0.2/math.sqrt(((stdAwal**2)/100)+((stdAkhir**2)/100))\n",
    "print(\"   Nilai uji statistik (z) =\", ztest)\n",
    "pval = stats.norm.sf(abs(ztest))*2\n",
    "print(\"   Nilai p =\", pval)\n",
    "print(\"6. Ambil keputusan apakah H0 ditolak atau tidak\")\n",
    "if (ztest > daerahKritis or ztest < -daerahKritis):\n",
    "    print(\"   H0 ditolak karena nilai ztest berada di daerah kritis\")\n",
    "else:\n",
    "    print(\"   H0 diterima karean nilai ztest berada di luar daerah kritis\")\n",
    "if (sig < pval):\n",
    "    print(\"   H0 diterima karena nilai p lebih besar dari nilai signifikan\")\n",
    "else:\n",
    "    print(\"   H0 ditolak karena nilai p lebih kecil dari nilai signifikan\")\n",
    "print(\"Boxplot:\")\n",
    "%matplotlib inline\n",
    "boxplot1 = splitData[0].boxplot(column=[\"KadarAir\"], color=\"blue\")\n",
    "boxplot2 = splitData[1].boxplot(column=[\"KadarAir\"], color=\"red\")"
   ]
  },
  {
   "cell_type": "code",
   "execution_count": 81,
   "metadata": {},
   "outputs": [
    {
     "name": "stdout",
     "output_type": "stream",
     "text": [
      "SOAL 5D\n",
      "Proporsi nilai bagian awal Ransum yang lebih dari 2, adalah lebih besar daripada, proporsi nilai yang sama di bagian akhir Ransum?\n",
      "\n",
      "Enam langkah testing:\n",
      "1. Tentukan hipotesis nol atau H0\n",
      "   H0: p1 = p2\n",
      "2. Tentukan hipotesis alternatif atau H1\n",
      "   H1: p1 > p2\n",
      "3. Tentukan tingkat signifikan α\n",
      "   α =  0.05\n",
      "4. Tentukan uji statistik yang sesuai dan tentukan daerah kritis\n",
      "   Digunakan uji statistik z-test\n",
      "   Daerah kritis =  1.6448536269514722\n",
      "5. Hitung uji nilai statistik dari data sample\n",
      "   Nilai uji statistik (z) =  8.504200642707612\n",
      "   Nilai p =  9.14255328161567e-18\n",
      "6. Ambil keputusan apakah H0 ditolak atau tidak\n",
      "   H0 ditolak karena nilai ztest berada di daerah kritis\n",
      "   H0 ditolak karena nilai p lebih kecil dari nilai signifikan\n",
      "Boxplot:\n"
     ]
    },
    {
     "data": {
      "image/png": "[encoded data removed]",
      "text/plain": [
       "<Figure size 432x288 with 1 Axes>"
      ]
     },
     "metadata": {
      "needs_background": "light"
     },
     "output_type": "display_data"
    }
   ],
   "source": [
    "print(\"SOAL 5D\")\n",
    "print(\"Proporsi nilai bagian awal Ransum yang lebih dari 2, adalah lebih besar daripada, proporsi nilai yang sama di bagian akhir Ransum?\\n\")\n",
    "splitData = np.array_split(df,2)\n",
    "sampleAwal = splitData[0].sample(100)\n",
    "sampleAkhir = splitData[1].sample(100)\n",
    "countAwal = 0\n",
    "for i in sampleAwal[\"Ransum\"]:\n",
    "    if (i > 2):\n",
    "        countAwal += 1\n",
    "countAkhir = 0\n",
    "for i in sampleAkhir[\"Ransum\"]:\n",
    "    if (i > 2):\n",
    "        countAkhir += 1\n",
    "p1 = countAwal/100\n",
    "p2 = countAkhir/100\n",
    "print(\"Enam langkah testing:\")\n",
    "print(\"1. Tentukan hipotesis nol atau H0\")\n",
    "print(\"   H0: p1 = p2\")\n",
    "print(\"2. Tentukan hipotesis alternatif atau H1\")\n",
    "print(\"   H1: p1 > p2\")\n",
    "print(\"3. Tentukan tingkat signifikan α\")\n",
    "sig = 0.05\n",
    "print(\"   α =\", sig)\n",
    "print(\"4. Tentukan uji statistik yang sesuai dan tentukan daerah kritis\")\n",
    "daerahKritis = stats.norm.ppf(1-sig)\n",
    "print(\"   Digunakan uji statistik z-test\")\n",
    "print(\"   Daerah kritis =\", daerahKritis)\n",
    "print(\"5. Hitung uji nilai statistik dari data sample\")\n",
    "p = (countAwal+countAkhir)/200\n",
    "ztest = (p1-p2)/math.sqrt((p*(1-p))*(1/100+1/100))\n",
    "print(\"   Nilai uji statistik (z) =\", ztest)\n",
    "pval = stats.norm.sf(abs(ztest))\n",
    "print(\"   Nilai p =\", pval)\n",
    "print(\"6. Ambil keputusan apakah H0 ditolak atau tidak\")\n",
    "if (ztest > daerahKritis):\n",
    "    print(\"   H0 ditolak karena nilai ztest berada di daerah kritis\")\n",
    "else:\n",
    "    print(\"   H0 diterima karean nilai ztest berada di luar daerah kritis\")\n",
    "if (sig < pval):\n",
    "    print(\"   H0 diterima karena nilai p lebih besar dari nilai signifikan\")\n",
    "else:\n",
    "    print(\"   H0 ditolak karena nilai p lebih kecil dari nilai signifikan\")\n",
    "print(\"Boxplot:\")\n",
    "%matplotlib inline\n",
    "boxplot1 = splitData[0].boxplot(column=[\"Ransum\"], color=\"blue\")\n",
    "boxplot2 = splitData[1].boxplot(column=[\"Ransum\"], color=\"red\")"
   ]
  },
  {
   "cell_type": "code",
   "execution_count": 82,
   "metadata": {},
   "outputs": [
    {
     "name": "stdout",
     "output_type": "stream",
     "text": [
      "SOAL 5E\n",
      "Bagian awal kolom Diameter memiliki variansi yang sama dengan bagian akhirnya?\n",
      "\n",
      "Enam langkah testing:\n",
      "1. Tentukan hipotesis nol atau H0\n",
      "   H0: σ1^2 = σ2^2\n",
      "2. Tentukan hipotesis alternatif atau H1\n",
      "   H1: σ1^2 != σ2^2\n",
      "3. Tentukan tingkat signifikan α\n",
      "   α =  0.05\n",
      "4. Tentukan uji statistik yang sesuai dan tentukan daerah kritis\n",
      "   Digunakan uji statistik z-test\n",
      "   Daerah kritis 1 =  1.486233767619293\n",
      "   Daerah kritis 2 =  0.32715833687331775\n",
      "5. Hitung uji nilai statistik dari data sample\n",
      "   Nilai uji statistik (f) =  1.165119986567005\n",
      "   Nilai p =  0.7757760415453404\n",
      "6. Ambil keputusan apakah H0 ditolak atau tidak\n",
      "   H0 diterima karean nilai ztest berada di luar daerah kritis\n",
      "   H0 diterima karena nilai p lebih besar dari nilai signifikan\n",
      "Boxplot:\n"
     ]
    },
    {
     "data": {
      "image/png": "[encoded data removed]",
      "text/plain": [
       "<Figure size 432x288 with 1 Axes>"
      ]
     },
     "metadata": {
      "needs_background": "light"
     },
     "output_type": "display_data"
    }
   ],
   "source": [
    "print(\"SOAL 5E\")\n",
    "print(\"Bagian awal kolom Diameter memiliki variansi yang sama dengan bagian akhirnya?\")\n",
    "print(\"\")\n",
    "splitData = np.array_split(df,2)\n",
    "sampleAwal = splitData[0].sample(100)\n",
    "sampleAkhir = splitData[1].sample(100)\n",
    "print(\"Enam langkah testing:\")\n",
    "print(\"1. Tentukan hipotesis nol atau H0\")\n",
    "print(\"   H0: σ1^2 = σ2^2\")\n",
    "print(\"2. Tentukan hipotesis alternatif atau H1\")\n",
    "print(\"   H1: σ1^2 != σ2^2\")\n",
    "print(\"3. Tentukan tingkat signifikan α\")\n",
    "sig = 0.05\n",
    "print(\"   α = \", sig)\n",
    "print(\"4. Tentukan uji statistik yang sesuai dan tentukan daerah kritis\")\n",
    "daerahKritis1 = stats.f.ppf(1-sig/2,99,99)\n",
    "daerahKritis2 = 1-stats.f.ppf(sig/2,99,99)\n",
    "print(\"   Digunakan uji statistik z-test\")\n",
    "print(\"   Daerah kritis 1 = \", daerahKritis1)\n",
    "print(\"   Daerah kritis 2 = \", daerahKritis2)\n",
    "print(\"5. Hitung uji nilai statistik dari data sample\")\n",
    "var1 = sampleAwal[\"Diameter\"].std()**2\n",
    "var2 = sampleAkhir[\"Diameter\"].std()**2\n",
    "ftest = var1/var2\n",
    "print(\"   Nilai uji statistik (f) = \", ftest)\n",
    "pval = stats.f.cdf(ftest,99,99)\n",
    "print(\"   Nilai p = \", pval)\n",
    "print(\"6. Ambil keputusan apakah H0 ditolak atau tidak\")\n",
    "if (ftest < daerahKritis2 or ftest > daerahKritis1):\n",
    "    print(\"   H0 ditolak karena nilai ztest berada di daerah kritis\")\n",
    "else:\n",
    "    print(\"   H0 diterima karean nilai ztest berada di luar daerah kritis\")\n",
    "if (sig < pval):\n",
    "    print(\"   H0 diterima karena nilai p lebih besar dari nilai signifikan\")\n",
    "else:\n",
    "    print(\"   H0 ditolak karena nilai p lebih kecil dari nilai signifikan\")\n",
    "print(\"Boxplot:\")\n",
    "%matplotlib inline\n",
    "boxplot1 = splitData[0].boxplot(column=[\"Diameter\"], color=\"blue\")\n",
    "boxplot2 = splitData[1].boxplot(column=[\"Diameter\"], color=\"red\")"
   ]
  },
  {
   "cell_type": "code",
   "execution_count": 153,
   "metadata": {},
   "outputs": [
    {
     "name": "stdout",
     "output_type": "stream",
     "text": [
      "SOAL 6: Scatter plot Kelas dengan Daerah\n",
      "Correlation value =  -0.6027466517416654\n",
      "Daerah berkorelasi kuat negatif dengan kelas\n"
     ]
    },
    {
     "data": {
      "image/png": "[encoded data removed]",
      "text/plain": [
       "<Figure size 432x288 with 1 Axes>"
      ]
     },
     "metadata": {
      "needs_background": "light"
     },
     "output_type": "display_data"
    }
   ],
   "source": [
    "print(\"SOAL 6: Scatter plot Kelas dengan Daerah\")\n",
    "df.plot(kind='scatter',x='Daerah',y='Kelas',color='red')\n",
    "print(\"Correlation value =\", df[\"Daerah\"].corr(df[\"Kelas\"]))\n",
    "print(\"Daerah berkorelasi kuat negatif dengan kelas\")"
   ]
  },
  {
   "cell_type": "code",
   "execution_count": 154,
   "metadata": {},
   "outputs": [
    {
     "name": "stdout",
     "output_type": "stream",
     "text": [
      "SOAL 6: Scatter plot Kelas dengan Sumbu Utama\n",
      "Correlation value =  -0.7130906104204592\n",
      "Sumbu Utama berkorelasi kuat negatif dengan kelas\n"
     ]
    },
    {
     "data": {
      "image/png": "[encoded data removed]",
      "text/plain": [
       "<Figure size 432x288 with 1 Axes>"
      ]
     },
     "metadata": {
      "needs_background": "light"
     },
     "output_type": "display_data"
    }
   ],
   "source": [
    "print(\"SOAL 6: Scatter plot Kelas dengan Sumbu Utama\")\n",
    "df.plot(kind='scatter',x='SumbuUtama',y='Kelas',color='red')\n",
    "print(\"Correlation value =\", df[\"SumbuUtama\"].corr(df[\"Kelas\"]))\n",
    "print(\"Sumbu Utama berkorelasi kuat negatif dengan kelas\")"
   ]
  },
  {
   "cell_type": "code",
   "execution_count": 155,
   "metadata": {},
   "outputs": [
    {
     "name": "stdout",
     "output_type": "stream",
     "text": [
      "SOAL 6: Scatter plot Kelas dengan Sumbu Kecil\n",
      "Correlation value =  -0.15297517335535024\n",
      "Sumbu Kecil berkorelasi sangat lemah negatif dengan kelas\n"
     ]
    },
    {
     "data": {
      "image/png": "[encoded data removed]",
      "text/plain": [
       "<Figure size 432x288 with 1 Axes>"
      ]
     },
     "metadata": {
      "needs_background": "light"
     },
     "output_type": "display_data"
    }
   ],
   "source": [
    "print(\"SOAL 6: Scatter plot Kelas dengan Sumbu Kecil\")\n",
    "df.plot(kind='scatter',x='SumbuKecil',y='Kelas',color='red')\n",
    "print(\"Correlation value =\", df[\"SumbuKecil\"].corr(df[\"Kelas\"]))\n",
    "print(\"Sumbu Kecil berkorelasi sangat lemah negatif dengan kelas\")"
   ]
  },
  {
   "cell_type": "code",
   "execution_count": 156,
   "metadata": {},
   "outputs": [
    {
     "name": "stdout",
     "output_type": "stream",
     "text": [
      "SOAL 6: Scatter plot Kelas dengan Keunikan\n",
      "Correlation value =  -0.7304563686511927\n",
      "Keunikan berkorelasi kuat negatif dengan kelas\n"
     ]
    },
    {
     "data": {
      "image/png": "[encoded data removed]",
      "text/plain": [
       "<Figure size 432x288 with 1 Axes>"
      ]
     },
     "metadata": {
      "needs_background": "light"
     },
     "output_type": "display_data"
    }
   ],
   "source": [
    "print(\"SOAL 6: Scatter plot Kelas dengan Keunikan\")\n",
    "df.plot(kind='scatter',x='Keunikan',y='Kelas',color='red')\n",
    "print(\"Correlation value =\", df[\"Keunikan\"].corr(df[\"Kelas\"]))\n",
    "print(\"Keunikan berkorelasi kuat negatif dengan kelas\")"
   ]
  },
  {
   "cell_type": "code",
   "execution_count": 157,
   "metadata": {},
   "outputs": [
    {
     "name": "stdout",
     "output_type": "stream",
     "text": [
      "SOAL 6: Scatter plot Kelas dengan Area Bulatan\n",
      "Correlation value =  -0.6073125434153747\n",
      "Area Bulatan berkorelasi kuat negatif dengan kelas\n"
     ]
    },
    {
     "data": {
      "image/png": "[encoded data removed]",
      "text/plain": [
       "<Figure size 432x288 with 1 Axes>"
      ]
     },
     "metadata": {
      "needs_background": "light"
     },
     "output_type": "display_data"
    }
   ],
   "source": [
    "print(\"SOAL 6: Scatter plot Kelas dengan Area Bulatan\")\n",
    "df.plot(kind='scatter',x='AreaBulatan',y='Kelas',color='red')\n",
    "print(\"Correlation value =\", df[\"AreaBulatan\"].corr(df[\"Kelas\"]))\n",
    "print(\"Area Bulatan berkorelasi kuat negatif dengan kelas\")"
   ]
  },
  {
   "cell_type": "code",
   "execution_count": 158,
   "metadata": {},
   "outputs": [
    {
     "name": "stdout",
     "output_type": "stream",
     "text": [
      "SOAL 6: Scatter plot Kelas dengan Diameter\n",
      "Correlation value =  -0.6025356896618811\n",
      "Diameter berkorelasi kuat negatif dengan kelas\n"
     ]
    },
    {
     "data": {
      "image/png": "[encoded data removed]",
      "text/plain": [
       "<Figure size 432x288 with 1 Axes>"
      ]
     },
     "metadata": {
      "needs_background": "light"
     },
     "output_type": "display_data"
    }
   ],
   "source": [
    "print(\"SOAL 6: Scatter plot Kelas dengan Diameter\")\n",
    "df.plot(kind='scatter',x='Diameter',y='Kelas',color='red')\n",
    "print(\"Correlation value =\", df[\"Diameter\"].corr(df[\"Kelas\"]))\n",
    "print(\"Diameter berkorelasi kuat negatif dengan kelas\")"
   ]
  },
  {
   "cell_type": "code",
   "execution_count": 159,
   "metadata": {},
   "outputs": [
    {
     "name": "stdout",
     "output_type": "stream",
     "text": [
      "SOAL 6: Scatter plot Kelas dengan Kadar Air\n",
      "Correlation value =  0.13434422605727642\n",
      "Kadar Air berkorelasi sangat lemah positif dengan kelas\n"
     ]
    },
    {
     "data": {
      "image/png": "[encoded data removed]",
      "text/plain": [
       "<Figure size 432x288 with 1 Axes>"
      ]
     },
     "metadata": {
      "needs_background": "light"
     },
     "output_type": "display_data"
    }
   ],
   "source": [
    "print(\"SOAL 6: Scatter plot Kelas dengan Kadar Air\")\n",
    "df.plot(kind='scatter',x='KadarAir',y='Kelas',color='red')\n",
    "print(\"Correlation value =\", df[\"KadarAir\"].corr(df[\"Kelas\"]))\n",
    "print(\"Kadar Air berkorelasi sangat lemah positif dengan kelas\")"
   ]
  },
  {
   "cell_type": "code",
   "execution_count": 160,
   "metadata": {},
   "outputs": [
    {
     "name": "stdout",
     "output_type": "stream",
     "text": [
      "SOAL 6: Scatter plot Kelas dengan Keliling\n",
      "Correlation value =  -0.6348607454756853\n",
      "Keliling berkorelasi kuat negatif dengan kelas\n"
     ]
    },
    {
     "data": {
      "image/png": "[encoded data removed]",
      "text/plain": [
       "<Figure size 432x288 with 1 Axes>"
      ]
     },
     "metadata": {
      "needs_background": "light"
     },
     "output_type": "display_data"
    }
   ],
   "source": [
    "print(\"SOAL 6: Scatter plot Kelas dengan Keliling\")\n",
    "df.plot(kind='scatter',x='Keliling',y='Kelas',color='red')\n",
    "print(\"Correlation value =\", df[\"Keliling\"].corr(df[\"Kelas\"]))\n",
    "print(\"Keliling berkorelasi kuat negatif dengan kelas\")"
   ]
  },
  {
   "cell_type": "code",
   "execution_count": 161,
   "metadata": {},
   "outputs": [
    {
     "name": "stdout",
     "output_type": "stream",
     "text": [
      "SOAL 6: Scatter plot Kelas dengan Bulatan\n",
      "Correlation value =  0.5450045317240073\n",
      "Bulatan berkorelasi sedang positif dengan kelas\n"
     ]
    },
    {
     "data": {
      "image/png": "[encoded data removed]",
      "text/plain": [
       "<Figure size 432x288 with 1 Axes>"
      ]
     },
     "metadata": {
      "needs_background": "light"
     },
     "output_type": "display_data"
    }
   ],
   "source": [
    "print(\"SOAL 6: Scatter plot Kelas dengan Bulatan\")\n",
    "df.plot(kind='scatter',x='Bulatan',y='Kelas',color='red')\n",
    "print(\"Correlation value =\", df[\"Bulatan\"].corr(df[\"Kelas\"]))\n",
    "print(\"Bulatan berkorelasi sedang positif dengan kelas\")"
   ]
  },
  {
   "cell_type": "code",
   "execution_count": 162,
   "metadata": {},
   "outputs": [
    {
     "name": "stdout",
     "output_type": "stream",
     "text": [
      "SOAL 6: Scatter plot Kelas dengan Ransum\n",
      "Correlation value =  -0.8399038681287486\n",
      "Ransum berkorelasi sangat kuat negatif dengan kelas\n"
     ]
    },
    {
     "data": {
      "image/png": "[encoded data removed]",
      "text/plain": [
       "<Figure size 432x288 with 1 Axes>"
      ]
     },
     "metadata": {
      "needs_background": "light"
     },
     "output_type": "display_data"
    }
   ],
   "source": [
    "print(\"SOAL 6: Scatter plot Kelas dengan Ransum\")\n",
    "df.plot(kind='scatter',x='Ransum',y='Kelas',color='red')\n",
    "print(\"Correlation value =\", df[\"Ransum\"].corr(df[\"Kelas\"]))\n",
    "print(\"Ransum berkorelasi sangat kuat negatif dengan kelas\")"
   ]
  },
  {
   "cell_type": "code",
   "execution_count": null,
   "metadata": {},
   "outputs": [],
   "source": []
  }
 ],
 "metadata": {
  "kernelspec": {
   "display_name": "Python 3",
   "language": "python",
   "name": "python3"
  },
  "language_info": {
   "codemirror_mode": {
    "name": "ipython",
    "version": 3
   },
   "file_extension": ".py",
   "mimetype": "text/x-python",
   "name": "python",
   "nbconvert_exporter": "python",
   "pygments_lexer": "ipython3",
   "version": "3.9.0"
  }
 },
 "nbformat": 4,
 "nbformat_minor": 4
}
